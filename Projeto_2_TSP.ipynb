{
  "nbformat": 4,
  "nbformat_minor": 0,
  "metadata": {
    "colab": {
      "name": "Projeto 2 - TSP.ipynb",
      "provenance": [],
      "collapsed_sections": [
        "zm2bN1Mm4Z8X",
        "rrg5vHrN4ZMc",
        "UYeIvW0376mL",
        "XDcv5p9_8tYu"
      ],
      "toc_visible": true,
      "authorship_tag": "ABX9TyMMHTyZYJi4G9kTk/k/svMj",
      "include_colab_link": true
    },
    "kernelspec": {
      "name": "python3",
      "display_name": "Python 3"
    },
    "language_info": {
      "name": "python"
    },
    "widgets": {
      "application/vnd.jupyter.widget-state+json": {
        "862beb4d6de44bfc9605dd3f49afce87": {
          "model_module": "@jupyter-widgets/controls",
          "model_name": "HBoxModel",
          "state": {
            "_view_name": "HBoxView",
            "_dom_classes": [],
            "_model_name": "HBoxModel",
            "_view_module": "@jupyter-widgets/controls",
            "_model_module_version": "1.5.0",
            "_view_count": null,
            "_view_module_version": "1.5.0",
            "box_style": "",
            "layout": "IPY_MODEL_50a9540d9f3a43718c1d788988cd695b",
            "_model_module": "@jupyter-widgets/controls",
            "children": [
              "IPY_MODEL_37e3ceb789894478badad1ccc35763eb",
              "IPY_MODEL_2e34e4a1bec146b2a5627bef50e3ef67"
            ]
          }
        },
        "50a9540d9f3a43718c1d788988cd695b": {
          "model_module": "@jupyter-widgets/base",
          "model_name": "LayoutModel",
          "state": {
            "_view_name": "LayoutView",
            "grid_template_rows": null,
            "right": null,
            "justify_content": null,
            "_view_module": "@jupyter-widgets/base",
            "overflow": null,
            "_model_module_version": "1.2.0",
            "_view_count": null,
            "flex_flow": null,
            "width": null,
            "min_width": null,
            "border": null,
            "align_items": null,
            "bottom": null,
            "_model_module": "@jupyter-widgets/base",
            "top": null,
            "grid_column": null,
            "overflow_y": null,
            "overflow_x": null,
            "grid_auto_flow": null,
            "grid_area": null,
            "grid_template_columns": null,
            "flex": null,
            "_model_name": "LayoutModel",
            "justify_items": null,
            "grid_row": null,
            "max_height": null,
            "align_content": null,
            "visibility": null,
            "align_self": null,
            "height": null,
            "min_height": null,
            "padding": null,
            "grid_auto_rows": null,
            "grid_gap": null,
            "max_width": null,
            "order": null,
            "_view_module_version": "1.2.0",
            "grid_template_areas": null,
            "object_position": null,
            "object_fit": null,
            "grid_auto_columns": null,
            "margin": null,
            "display": null,
            "left": null
          }
        },
        "37e3ceb789894478badad1ccc35763eb": {
          "model_module": "@jupyter-widgets/controls",
          "model_name": "FloatProgressModel",
          "state": {
            "_view_name": "ProgressView",
            "style": "IPY_MODEL_da0b52ff3cb14cf1bfb2956a7f632b5b",
            "_dom_classes": [],
            "description": "100%",
            "_model_name": "FloatProgressModel",
            "bar_style": "success",
            "max": 239500800,
            "_view_module": "@jupyter-widgets/controls",
            "_model_module_version": "1.5.0",
            "value": 239500800,
            "_view_count": null,
            "_view_module_version": "1.5.0",
            "orientation": "horizontal",
            "min": 0,
            "description_tooltip": null,
            "_model_module": "@jupyter-widgets/controls",
            "layout": "IPY_MODEL_b03a2a18a70e4269a033d28a114dab77"
          }
        },
        "2e34e4a1bec146b2a5627bef50e3ef67": {
          "model_module": "@jupyter-widgets/controls",
          "model_name": "HTMLModel",
          "state": {
            "_view_name": "HTMLView",
            "style": "IPY_MODEL_c181a8951c7a448284025aaca3334a9f",
            "_dom_classes": [],
            "description": "",
            "_model_name": "HTMLModel",
            "placeholder": "​",
            "_view_module": "@jupyter-widgets/controls",
            "_model_module_version": "1.5.0",
            "value": " 239500800/239500800 [1:27:09&lt;00:00, 45801.52it/s, melhor_custo=30.8, pior_custo=84.7]",
            "_view_count": null,
            "_view_module_version": "1.5.0",
            "description_tooltip": null,
            "_model_module": "@jupyter-widgets/controls",
            "layout": "IPY_MODEL_b84569251d8c4d85aba9082725cb0097"
          }
        },
        "da0b52ff3cb14cf1bfb2956a7f632b5b": {
          "model_module": "@jupyter-widgets/controls",
          "model_name": "ProgressStyleModel",
          "state": {
            "_view_name": "StyleView",
            "_model_name": "ProgressStyleModel",
            "description_width": "initial",
            "_view_module": "@jupyter-widgets/base",
            "_model_module_version": "1.5.0",
            "_view_count": null,
            "_view_module_version": "1.2.0",
            "bar_color": null,
            "_model_module": "@jupyter-widgets/controls"
          }
        },
        "b03a2a18a70e4269a033d28a114dab77": {
          "model_module": "@jupyter-widgets/base",
          "model_name": "LayoutModel",
          "state": {
            "_view_name": "LayoutView",
            "grid_template_rows": null,
            "right": null,
            "justify_content": null,
            "_view_module": "@jupyter-widgets/base",
            "overflow": null,
            "_model_module_version": "1.2.0",
            "_view_count": null,
            "flex_flow": null,
            "width": null,
            "min_width": null,
            "border": null,
            "align_items": null,
            "bottom": null,
            "_model_module": "@jupyter-widgets/base",
            "top": null,
            "grid_column": null,
            "overflow_y": null,
            "overflow_x": null,
            "grid_auto_flow": null,
            "grid_area": null,
            "grid_template_columns": null,
            "flex": null,
            "_model_name": "LayoutModel",
            "justify_items": null,
            "grid_row": null,
            "max_height": null,
            "align_content": null,
            "visibility": null,
            "align_self": null,
            "height": null,
            "min_height": null,
            "padding": null,
            "grid_auto_rows": null,
            "grid_gap": null,
            "max_width": null,
            "order": null,
            "_view_module_version": "1.2.0",
            "grid_template_areas": null,
            "object_position": null,
            "object_fit": null,
            "grid_auto_columns": null,
            "margin": null,
            "display": null,
            "left": null
          }
        },
        "c181a8951c7a448284025aaca3334a9f": {
          "model_module": "@jupyter-widgets/controls",
          "model_name": "DescriptionStyleModel",
          "state": {
            "_view_name": "StyleView",
            "_model_name": "DescriptionStyleModel",
            "description_width": "",
            "_view_module": "@jupyter-widgets/base",
            "_model_module_version": "1.5.0",
            "_view_count": null,
            "_view_module_version": "1.2.0",
            "_model_module": "@jupyter-widgets/controls"
          }
        },
        "b84569251d8c4d85aba9082725cb0097": {
          "model_module": "@jupyter-widgets/base",
          "model_name": "LayoutModel",
          "state": {
            "_view_name": "LayoutView",
            "grid_template_rows": null,
            "right": null,
            "justify_content": null,
            "_view_module": "@jupyter-widgets/base",
            "overflow": null,
            "_model_module_version": "1.2.0",
            "_view_count": null,
            "flex_flow": null,
            "width": null,
            "min_width": null,
            "border": null,
            "align_items": null,
            "bottom": null,
            "_model_module": "@jupyter-widgets/base",
            "top": null,
            "grid_column": null,
            "overflow_y": null,
            "overflow_x": null,
            "grid_auto_flow": null,
            "grid_area": null,
            "grid_template_columns": null,
            "flex": null,
            "_model_name": "LayoutModel",
            "justify_items": null,
            "grid_row": null,
            "max_height": null,
            "align_content": null,
            "visibility": null,
            "align_self": null,
            "height": null,
            "min_height": null,
            "padding": null,
            "grid_auto_rows": null,
            "grid_gap": null,
            "max_width": null,
            "order": null,
            "_view_module_version": "1.2.0",
            "grid_template_areas": null,
            "object_position": null,
            "object_fit": null,
            "grid_auto_columns": null,
            "margin": null,
            "display": null,
            "left": null
          }
        }
      }
    }
  },
  "cells": [
    {
      "cell_type": "markdown",
      "metadata": {
        "id": "view-in-github",
        "colab_type": "text"
      },
      "source": [
        "<a href=\"https://colab.research.google.com/github/hermanodfc/BSI-UFRPE/blob/master/Projeto_2_TSP.ipynb\" target=\"_parent\"><img src=\"https://colab.research.google.com/assets/colab-badge.svg\" alt=\"Open In Colab\"/></a>"
      ]
    },
    {
      "cell_type": "markdown",
      "metadata": {
        "id": "nLuPH5fg7VGv"
      },
      "source": [
        "# FlyFood"
      ]
    },
    {
      "cell_type": "markdown",
      "metadata": {
        "id": "zm2bN1Mm4Z8X"
      },
      "source": [
        "## Configuração do Ambiente"
      ]
    },
    {
      "cell_type": "markdown",
      "metadata": {
        "id": "4__R1dWz45d0"
      },
      "source": [
        "### Instalação de bibliotecas extras\n",
        "Instalação da versão mais recente da biblioteca [![image.png](data:image/png;base64,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)](https://plotly.com/)"
      ]
    },
    {
      "cell_type": "code",
      "metadata": {
        "id": "4iHGIJqf4MZs",
        "colab": {
          "base_uri": "https://localhost:8080/"
        },
        "outputId": "5d8f0877-fb51-4b33-967c-e238b8f01e81"
      },
      "source": [
        "%pip install --upgrade plotly"
      ],
      "execution_count": null,
      "outputs": [
        {
          "output_type": "stream",
          "text": [
            "Requirement already up-to-date: plotly in /usr/local/lib/python3.7/dist-packages (4.14.3)\n",
            "Requirement already satisfied, skipping upgrade: six in /usr/local/lib/python3.7/dist-packages (from plotly) (1.15.0)\n",
            "Requirement already satisfied, skipping upgrade: retrying>=1.3.3 in /usr/local/lib/python3.7/dist-packages (from plotly) (1.3.3)\n"
          ],
          "name": "stdout"
        }
      ]
    },
    {
      "cell_type": "markdown",
      "metadata": {
        "id": "CjMpiLqk5r8U"
      },
      "source": [
        "### Import das bibliotecas utilizadas no projeto"
      ]
    },
    {
      "cell_type": "code",
      "metadata": {
        "id": "UUIfq-CS5qKA"
      },
      "source": [
        "import plotly.graph_objects as go\n",
        "import random\n",
        "import collections\n",
        "import math\n",
        "from tqdm.notebook import tqdm\n",
        "from time import sleep\n",
        "import numpy as np\n",
        "import scipy.special\n",
        "import datetime"
      ],
      "execution_count": null,
      "outputs": []
    },
    {
      "cell_type": "markdown",
      "metadata": {
        "id": "rrg5vHrN4ZMc"
      },
      "source": [
        "## Pontos de Entrega\n"
      ]
    },
    {
      "cell_type": "markdown",
      "metadata": {
        "id": "3SzM1sY46gR5"
      },
      "source": [
        "### Ponto no plano cartesiano."
      ]
    },
    {
      "cell_type": "code",
      "metadata": {
        "id": "IB1ll5MMMVwo"
      },
      "source": [
        "Point = collections.namedtuple('Point', ['nome', 'x', 'y'])"
      ],
      "execution_count": null,
      "outputs": []
    },
    {
      "cell_type": "markdown",
      "metadata": {
        "id": "O-gNZX3e7Dep"
      },
      "source": [
        "### Distância euclidiana no plano cartesiano"
      ]
    },
    {
      "cell_type": "code",
      "metadata": {
        "id": "ZwTELu6iGK4F"
      },
      "source": [
        "def distancia(a, b):\n",
        "  return math.sqrt((b.x - a.x)**2 + (b.y - a.y)**2)"
      ],
      "execution_count": null,
      "outputs": []
    },
    {
      "cell_type": "markdown",
      "metadata": {
        "id": "UYeIvW0376mL"
      },
      "source": [
        "## Entradas do FlyFood\n"
      ]
    },
    {
      "cell_type": "markdown",
      "metadata": {
        "id": "u6M7-z0v8SEB"
      },
      "source": [
        "### Gerador de Entradas"
      ]
    },
    {
      "cell_type": "code",
      "metadata": {
        "id": "PFteNJiT2_BR"
      },
      "source": [
        "def gerador_entradas(qtd_pontos, formato, semente=None):\n",
        "  random.seed(semente)\n",
        "  pontos = [-1] + list(range(1, qtd_pontos))\n",
        "  pontos += [0]*(formato[0]*formato[1] - len(pontos))\n",
        "  random.shuffle(pontos)\n",
        "\n",
        "  result = []\n",
        "\n",
        "  for i in range(0, formato[0]):\n",
        "    lim_inf = (i * formato[1])\n",
        "    lim_sup = lim_inf + formato[1]\n",
        "    result.append(pontos[lim_inf:lim_sup])\n",
        "\n",
        "  return result"
      ],
      "execution_count": null,
      "outputs": []
    },
    {
      "cell_type": "markdown",
      "metadata": {
        "id": "16Hox-xy8U6Y"
      },
      "source": [
        "### Processador de Entradas"
      ]
    },
    {
      "cell_type": "code",
      "metadata": {
        "id": "O7OIjhvb8_Sb"
      },
      "source": [
        "def processa_entrada(entrada):\n",
        "  visitas = []\n",
        "  origem = None\n",
        "\n",
        "  for i in range(len(entrada)):\n",
        "    linha_i = entrada[i]\n",
        "    for j in range(len(linha_i)):\n",
        "      ponto = linha_i[j]\n",
        "      if ponto != 0:\n",
        "        if ponto == -1:\n",
        "          origem = Point(ponto, j, i)\n",
        "        else:\n",
        "          visitas.append(Point(ponto, j, i)) \n",
        "\n",
        "  return origem, visitas"
      ],
      "execution_count": null,
      "outputs": []
    },
    {
      "cell_type": "markdown",
      "metadata": {
        "id": "wmbW0s4J8fGO"
      },
      "source": [
        "##Circuítos"
      ]
    },
    {
      "cell_type": "markdown",
      "metadata": {
        "id": "XDcv5p9_8tYu"
      },
      "source": [
        "### Gerando circuítos sem inverso"
      ]
    },
    {
      "cell_type": "code",
      "metadata": {
        "id": "RY9feybeB9Xs"
      },
      "source": [
        "def gera_circuitos(visitas, caminho, posicao):\n",
        "\n",
        "    if len(visitas) == 0:\n",
        "        yield\n",
        "    else:\n",
        "        for i in range(len(visitas)):\n",
        "            caminho[posicao] = visitas[i]\n",
        "            yield from gera_circuitos(visitas[0:i] + visitas[i + 1:], caminho, posicao + 1)\n",
        "\n",
        "def gera_circuitos_sem_inverso(visitas):\n",
        "\n",
        "    if len(visitas) < 3:\n",
        "        yield visitas[:]\n",
        "    else:\n",
        "        caminho = [0] * len(visitas)\n",
        "        for i in range(len(visitas) - 1):\n",
        "            caminho[0] = visitas[i]\n",
        "            for j in range(i + 1, len(visitas)):\n",
        "                caminho[-1] = visitas[j]\n",
        "                for a in gera_circuitos(visitas[0:i] + visitas[i + 1:j] + visitas[j+1:], caminho, 1):\n",
        "                    yield caminho[:]\n"
      ],
      "execution_count": null,
      "outputs": []
    },
    {
      "cell_type": "markdown",
      "metadata": {
        "id": "uVLDxtni88ED"
      },
      "source": [
        "### Custo (distância) de um circuíto"
      ]
    },
    {
      "cell_type": "code",
      "metadata": {
        "id": "ggyYTo-RMcSY"
      },
      "source": [
        "def distancia_circuito(origem, caminho):\n",
        "  custo_total = 0\n",
        "  \n",
        "  for i in range(len(caminho) - 1):\n",
        "    custo_total += distancia(caminho[i], caminho[i + 1])\n",
        "  \n",
        "  custo_total += distancia(origem, caminho[0])\n",
        "  custo_total += distancia(caminho[-1], origem)\n",
        "\n",
        "  return custo_total"
      ],
      "execution_count": null,
      "outputs": []
    },
    {
      "cell_type": "markdown",
      "metadata": {
        "id": "1956cccY9JEo"
      },
      "source": [
        "### Buscando o melhor (ou pior) circuíto"
      ]
    },
    {
      "cell_type": "code",
      "metadata": {
        "id": "XAvrBwdPNvFg"
      },
      "source": [
        "def melhor_circuito(origem, visitas, verbose=False, informa_pior=False):\n",
        "  melhor_custo = float('inf')\n",
        "  melhor_caminho = None\n",
        "\n",
        "  if informa_pior:\n",
        "    pior_custo = float('-inf')\n",
        "    pior_caminho = None\n",
        "     \n",
        "  if verbose:\n",
        "    interval = 1000\n",
        "    iter = 0\n",
        "    espaco_busca = math.factorial(len(visitas))//2 \n",
        "    pbar = tqdm(total=espaco_busca)\n",
        "    \n",
        "  for caminho in gera_circuitos_sem_inverso(visitas):\n",
        "    distancia = distancia_circuito(origem, caminho)\n",
        "    if distancia < melhor_custo:\n",
        "      melhor_custo = distancia\n",
        "      melhor_caminho = caminho\n",
        "\n",
        "    if informa_pior:\n",
        "      if distancia > pior_custo:\n",
        "          pior_custo = distancia\n",
        "          pior_caminho = caminho\n",
        "\n",
        "    if verbose:\n",
        "      iter += 1\n",
        "\n",
        "      if iter % interval == 0:\n",
        "        pbar.set_postfix(melhor_custo=melhor_custo, refresh=False)\n",
        "\n",
        "        if informa_pior:\n",
        "          pbar.set_postfix(melhor_custo=melhor_custo, pior_custo=pior_custo, refresh=False)\n",
        "        pbar.update(interval)\n",
        "\n",
        "  if verbose:\n",
        "    pbar.update(espaco_busca % interval)\n",
        "    pbar.close()\n",
        "\n",
        "  if informa_pior:\n",
        "    return melhor_custo, melhor_caminho, pior_custo, pior_caminho\n",
        "  else:\n",
        "    return melhor_custo, melhor_caminho"
      ],
      "execution_count": null,
      "outputs": []
    },
    {
      "cell_type": "markdown",
      "metadata": {
        "id": "JW6ONH6xIIkT"
      },
      "source": [
        "### Visualizando um circuito"
      ]
    },
    {
      "cell_type": "code",
      "metadata": {
        "id": "KQPsYtMdEOXp"
      },
      "source": [
        "def criar_grafico(origem, caminho, custo, mensagem):\n",
        "\n",
        "  caminho = [origem] + caminho + [origem]\n",
        "\n",
        "  primeiro = go.Scatter(x=[ponto.x for ponto in caminho], \n",
        "                        y=[ponto.y for ponto in caminho],\n",
        "                        mode=\"markers+text\",\n",
        "                        textposition=\"top center\",\n",
        "                        text = [str(ponto.nome) for ponto in caminho],\n",
        "                        marker={'size':[10]*len(caminho),\n",
        "                                'color': ['red'] + \n",
        "                                        ['blue']*(len(caminho) - 2) + \n",
        "                                        ['red']}) \n",
        "\n",
        "  frames = [go.Frame(data=[primeiro])]\n",
        "\n",
        "  for i in range(2, len(caminho) + 1):\n",
        "    posicoes = [(caminho[j].x, caminho[j].y) for j in range(i)]\n",
        "    x, y = zip(*posicoes)\n",
        "\n",
        "    frames.append(\n",
        "        go.Frame(data=[primeiro, go.Scatter(x=x, y=y, mode=\"lines\")])\n",
        "    )\n",
        "\n",
        "\n",
        "  fig = go.Figure(\n",
        "      data=[primeiro, primeiro],\n",
        "      layout=go.Layout(showlegend=False, title=\"Custo do {} caminho: {:.4f} unidades\".format(mensagem, custo),\n",
        "          xaxis=dict(range=[-1, len(matrix[0])], autorange=False, \n",
        "                    side='top', visible=False, showticklabels=False),\n",
        "          yaxis=dict(range=[len(matrix) + 1, -2], autorange=False,\n",
        "                    visible=False, showticklabels=False),\n",
        "          updatemenus=[dict(\n",
        "              type=\"buttons\",\n",
        "              buttons=[dict(label=\"Play\",\n",
        "                            method=\"animate\",\n",
        "                            args=[None])])]\n",
        "      ),\n",
        "      frames=frames\n",
        "  )\n",
        "\n",
        "  fig.show()"
      ],
      "execution_count": null,
      "outputs": []
    },
    {
      "cell_type": "markdown",
      "metadata": {
        "id": "OM15XOtx9buL"
      },
      "source": [
        "## Experimentos"
      ]
    },
    {
      "cell_type": "code",
      "metadata": {
        "colab": {
          "base_uri": "https://localhost:8080/"
        },
        "id": "bCL_isq1Mao7",
        "outputId": "8236104d-7240-46fe-f7ca-2dfa2836fd20"
      },
      "source": [
        "#@title Gerando uma matriz de entrada { run: \"auto\" }\n",
        "Locais = 13 #@param {type:\"integer\"}\n",
        "Linhas = 10 #@param {type:\"integer\"}\n",
        "Colunas = 10 #@param {type:\"integer\"}\n",
        "Semente_randomica =   19#@param {type:\"integer\"}\n",
        "#@markdown  **Semente_randomica = 0 -> None**\n",
        "\n",
        "if Semente_randomica == 0:\n",
        "  Semente_randomica = None\n",
        "  \n",
        "matrix = gerador_entradas(Locais, (Linhas, Colunas), semente=Semente_randomica)\n",
        "matrix"
      ],
      "execution_count": null,
      "outputs": [
        {
          "output_type": "execute_result",
          "data": {
            "text/plain": [
              "[[1, 0, 0, 0, 0, 0, 0, 0, 0, 0],\n",
              " [0, 4, 0, 0, 0, 0, 3, 0, 0, 0],\n",
              " [0, 0, 0, 0, 0, 0, 0, 11, 0, 0],\n",
              " [0, 0, 7, 0, 0, -1, 0, 0, 0, 0],\n",
              " [0, 8, 0, 0, 0, 6, 0, 0, 0, 0],\n",
              " [0, 0, 0, 10, 0, 0, 0, 0, 0, 0],\n",
              " [0, 0, 0, 0, 0, 0, 0, 12, 0, 0],\n",
              " [0, 0, 0, 0, 9, 0, 0, 2, 0, 0],\n",
              " [0, 0, 0, 0, 0, 0, 0, 0, 0, 0],\n",
              " [0, 0, 0, 0, 0, 0, 0, 0, 5, 0]]"
            ]
          },
          "metadata": {
            "tags": []
          },
          "execution_count": 68
        }
      ]
    },
    {
      "cell_type": "markdown",
      "metadata": {
        "id": "hqJzUo2GA9tJ"
      },
      "source": [
        "### Processando a matriz de entrada"
      ]
    },
    {
      "cell_type": "code",
      "metadata": {
        "colab": {
          "base_uri": "https://localhost:8080/"
        },
        "id": "yM5CyGBY9mxA",
        "outputId": "118085fa-56c8-4f49-b979-2697558e4aaa"
      },
      "source": [
        "origem, visitas = processa_entrada(matrix)\n",
        "print(' Origem:\\n\\t', origem, '\\n', 'Visitas:', *['\\n\\t '+ str(visita) for visita in visitas])"
      ],
      "execution_count": null,
      "outputs": [
        {
          "output_type": "stream",
          "text": [
            " Origem:\n",
            "\t Point(nome=-1, x=5, y=3) \n",
            " Visitas: \n",
            "\t Point(nome=1, x=0, y=0) \n",
            "\t Point(nome=4, x=1, y=1) \n",
            "\t Point(nome=3, x=6, y=1) \n",
            "\t Point(nome=11, x=7, y=2) \n",
            "\t Point(nome=7, x=2, y=3) \n",
            "\t Point(nome=8, x=1, y=4) \n",
            "\t Point(nome=6, x=5, y=4) \n",
            "\t Point(nome=10, x=3, y=5) \n",
            "\t Point(nome=12, x=7, y=6) \n",
            "\t Point(nome=9, x=4, y=7) \n",
            "\t Point(nome=2, x=7, y=7) \n",
            "\t Point(nome=5, x=8, y=9)\n"
          ],
          "name": "stdout"
        }
      ]
    },
    {
      "cell_type": "markdown",
      "metadata": {
        "id": "EzodKVBlHUnM"
      },
      "source": [
        "### Buscando circuito"
      ]
    },
    {
      "cell_type": "code",
      "metadata": {
        "id": "eo6IslGsQ_2w",
        "colab": {
          "base_uri": "https://localhost:8080/",
          "height": 587,
          "referenced_widgets": [
            "862beb4d6de44bfc9605dd3f49afce87",
            "50a9540d9f3a43718c1d788988cd695b",
            "37e3ceb789894478badad1ccc35763eb",
            "2e34e4a1bec146b2a5627bef50e3ef67",
            "da0b52ff3cb14cf1bfb2956a7f632b5b",
            "b03a2a18a70e4269a033d28a114dab77",
            "c181a8951c7a448284025aaca3334a9f",
            "b84569251d8c4d85aba9082725cb0097"
          ]
        },
        "outputId": "62c36343-76f2-490d-942b-8d3e658659ed"
      },
      "source": [
        "custo_otimo, circuito_otimo, pior_custo, pior_circuito = melhor_circuito(origem, visitas, verbose=True, informa_pior=True)\n",
        "print(' Custo do melhor circuíto:', custo_otimo, '\\n', 'Circuíto:', *['\\n\\t '+ str(visita) for visita in circuito_otimo])\n",
        "print()\n",
        "print(' Custo do pior circuíto:', pior_custo, '\\n', 'Circuíto:', *['\\n\\t '+ str(visita) for visita in pior_circuito])\n"
      ],
      "execution_count": null,
      "outputs": [
        {
          "output_type": "display_data",
          "data": {
            "application/vnd.jupyter.widget-view+json": {
              "model_id": "862beb4d6de44bfc9605dd3f49afce87",
              "version_minor": 0,
              "version_major": 2
            },
            "text/plain": [
              "HBox(children=(FloatProgress(value=0.0, max=239500800.0), HTML(value='')))"
            ]
          },
          "metadata": {
            "tags": []
          }
        },
        {
          "output_type": "stream",
          "text": [
            "\n",
            " Custo do melhor circuíto: 30.806306184662226 \n",
            " Circuíto: \n",
            "\t Point(nome=11, x=7, y=2) \n",
            "\t Point(nome=3, x=6, y=1) \n",
            "\t Point(nome=1, x=0, y=0) \n",
            "\t Point(nome=4, x=1, y=1) \n",
            "\t Point(nome=7, x=2, y=3) \n",
            "\t Point(nome=8, x=1, y=4) \n",
            "\t Point(nome=10, x=3, y=5) \n",
            "\t Point(nome=9, x=4, y=7) \n",
            "\t Point(nome=5, x=8, y=9) \n",
            "\t Point(nome=2, x=7, y=7) \n",
            "\t Point(nome=12, x=7, y=6) \n",
            "\t Point(nome=6, x=5, y=4)\n",
            "\n",
            " Custo do pior circuíto: 84.71027031935341 \n",
            " Circuíto: \n",
            "\t Point(nome=9, x=4, y=7) \n",
            "\t Point(nome=3, x=6, y=1) \n",
            "\t Point(nome=10, x=3, y=5) \n",
            "\t Point(nome=11, x=7, y=2) \n",
            "\t Point(nome=8, x=1, y=4) \n",
            "\t Point(nome=6, x=5, y=4) \n",
            "\t Point(nome=7, x=2, y=3) \n",
            "\t Point(nome=12, x=7, y=6) \n",
            "\t Point(nome=4, x=1, y=1) \n",
            "\t Point(nome=2, x=7, y=7) \n",
            "\t Point(nome=1, x=0, y=0) \n",
            "\t Point(nome=5, x=8, y=9)\n"
          ],
          "name": "stdout"
        }
      ]
    },
    {
      "cell_type": "code",
      "metadata": {
        "colab": {
          "base_uri": "https://localhost:8080/",
          "height": 542
        },
        "id": "VpvYC4lLOVl_",
        "cellView": "form",
        "outputId": "3145293d-5bd4-4e3e-e740-c658b8d2b708"
      },
      "source": [
        "#@title Visualizando o circuito { run: \"auto\" }\n",
        "Pior_caminho = True #@param {type:\"boolean\"}\n",
        "\n",
        "circuito = circuito_otimo\n",
        "custo = custo_otimo\n",
        "mensagem = \"melhor\"\n",
        "if Pior_caminho:\n",
        "  circuito = pior_circuito\n",
        "  custo = pior_custo\n",
        "  mensagem = \"pior\"\n",
        "\n",
        "criar_grafico(origem, circuito, custo, mensagem)"
      ],
      "execution_count": null,
      "outputs": [
        {
          "output_type": "display_data",
          "data": {
            "text/html": [
              "<html>\n",
              "<head><meta charset=\"utf-8\" /></head>\n",
              "<body>\n",
              "    <div>            <script src=\"https://cdnjs.cloudflare.com/ajax/libs/mathjax/2.7.5/MathJax.js?config=TeX-AMS-MML_SVG\"></script><script type=\"text/javascript\">if (window.MathJax) {MathJax.Hub.Config({SVG: {font: \"STIX-Web\"}});}</script>                <script type=\"text/javascript\">window.PlotlyConfig = {MathJaxConfig: 'local'};</script>\n",
              "        <script src=\"https://cdn.plot.ly/plotly-latest.min.js\"></script>                <div id=\"a64fe76c-213d-4f95-a203-47436516a7d4\" class=\"plotly-graph-div\" style=\"height:525px; width:100%;\"></div>            <script type=\"text/javascript\">                                    window.PLOTLYENV=window.PLOTLYENV || {};                                    if (document.getElementById(\"a64fe76c-213d-4f95-a203-47436516a7d4\")) {                    Plotly.newPlot(                        \"a64fe76c-213d-4f95-a203-47436516a7d4\",                        [{\"marker\": {\"color\": [\"red\", \"blue\", \"blue\", \"blue\", \"blue\", \"blue\", \"blue\", \"blue\", \"blue\", \"blue\", \"blue\", \"blue\", \"blue\", \"red\"], \"size\": [10, 10, 10, 10, 10, 10, 10, 10, 10, 10, 10, 10, 10, 10]}, \"mode\": \"markers+text\", \"text\": [\"-1\", \"9\", \"3\", \"10\", \"11\", \"8\", \"6\", \"7\", \"12\", \"4\", \"2\", \"1\", \"5\", \"-1\"], \"textposition\": \"top center\", \"type\": \"scatter\", \"x\": [5, 4, 6, 3, 7, 1, 5, 2, 7, 1, 7, 0, 8, 5], \"y\": [3, 7, 1, 5, 2, 4, 4, 3, 6, 1, 7, 0, 9, 3]}, {\"marker\": {\"color\": [\"red\", \"blue\", \"blue\", \"blue\", \"blue\", \"blue\", \"blue\", \"blue\", \"blue\", \"blue\", \"blue\", \"blue\", \"blue\", \"red\"], \"size\": [10, 10, 10, 10, 10, 10, 10, 10, 10, 10, 10, 10, 10, 10]}, \"mode\": \"markers+text\", \"text\": [\"-1\", \"9\", \"3\", \"10\", \"11\", \"8\", \"6\", \"7\", \"12\", \"4\", \"2\", \"1\", \"5\", \"-1\"], \"textposition\": \"top center\", \"type\": \"scatter\", \"x\": [5, 4, 6, 3, 7, 1, 5, 2, 7, 1, 7, 0, 8, 5], \"y\": [3, 7, 1, 5, 2, 4, 4, 3, 6, 1, 7, 0, 9, 3]}],                        {\"showlegend\": false, \"template\": {\"data\": {\"bar\": [{\"error_x\": {\"color\": \"#2a3f5f\"}, \"error_y\": {\"color\": \"#2a3f5f\"}, \"marker\": {\"line\": {\"color\": \"#E5ECF6\", \"width\": 0.5}}, \"type\": \"bar\"}], \"barpolar\": [{\"marker\": {\"line\": {\"color\": \"#E5ECF6\", \"width\": 0.5}}, \"type\": \"barpolar\"}], \"carpet\": [{\"aaxis\": {\"endlinecolor\": \"#2a3f5f\", \"gridcolor\": \"white\", \"linecolor\": \"white\", \"minorgridcolor\": \"white\", \"startlinecolor\": \"#2a3f5f\"}, \"baxis\": {\"endlinecolor\": \"#2a3f5f\", \"gridcolor\": \"white\", \"linecolor\": \"white\", \"minorgridcolor\": \"white\", \"startlinecolor\": \"#2a3f5f\"}, \"type\": \"carpet\"}], \"choropleth\": [{\"colorbar\": {\"outlinewidth\": 0, \"ticks\": \"\"}, \"type\": \"choropleth\"}], \"contour\": [{\"colorbar\": {\"outlinewidth\": 0, \"ticks\": \"\"}, \"colorscale\": [[0.0, \"#0d0887\"], [0.1111111111111111, \"#46039f\"], [0.2222222222222222, \"#7201a8\"], [0.3333333333333333, \"#9c179e\"], [0.4444444444444444, \"#bd3786\"], [0.5555555555555556, \"#d8576b\"], [0.6666666666666666, \"#ed7953\"], [0.7777777777777778, \"#fb9f3a\"], [0.8888888888888888, \"#fdca26\"], [1.0, \"#f0f921\"]], \"type\": \"contour\"}], \"contourcarpet\": [{\"colorbar\": {\"outlinewidth\": 0, \"ticks\": \"\"}, \"type\": \"contourcarpet\"}], \"heatmap\": [{\"colorbar\": {\"outlinewidth\": 0, \"ticks\": \"\"}, \"colorscale\": [[0.0, \"#0d0887\"], [0.1111111111111111, \"#46039f\"], [0.2222222222222222, \"#7201a8\"], [0.3333333333333333, \"#9c179e\"], [0.4444444444444444, \"#bd3786\"], [0.5555555555555556, \"#d8576b\"], [0.6666666666666666, \"#ed7953\"], [0.7777777777777778, \"#fb9f3a\"], [0.8888888888888888, \"#fdca26\"], [1.0, \"#f0f921\"]], \"type\": \"heatmap\"}], \"heatmapgl\": [{\"colorbar\": {\"outlinewidth\": 0, \"ticks\": \"\"}, \"colorscale\": [[0.0, \"#0d0887\"], [0.1111111111111111, \"#46039f\"], [0.2222222222222222, \"#7201a8\"], [0.3333333333333333, \"#9c179e\"], [0.4444444444444444, \"#bd3786\"], [0.5555555555555556, \"#d8576b\"], [0.6666666666666666, \"#ed7953\"], [0.7777777777777778, \"#fb9f3a\"], [0.8888888888888888, \"#fdca26\"], [1.0, \"#f0f921\"]], \"type\": \"heatmapgl\"}], \"histogram\": [{\"marker\": {\"colorbar\": {\"outlinewidth\": 0, \"ticks\": \"\"}}, \"type\": \"histogram\"}], \"histogram2d\": [{\"colorbar\": {\"outlinewidth\": 0, \"ticks\": \"\"}, \"colorscale\": [[0.0, \"#0d0887\"], [0.1111111111111111, \"#46039f\"], [0.2222222222222222, \"#7201a8\"], [0.3333333333333333, \"#9c179e\"], [0.4444444444444444, \"#bd3786\"], [0.5555555555555556, \"#d8576b\"], [0.6666666666666666, \"#ed7953\"], [0.7777777777777778, \"#fb9f3a\"], [0.8888888888888888, \"#fdca26\"], [1.0, \"#f0f921\"]], \"type\": \"histogram2d\"}], \"histogram2dcontour\": [{\"colorbar\": {\"outlinewidth\": 0, \"ticks\": \"\"}, \"colorscale\": [[0.0, \"#0d0887\"], [0.1111111111111111, \"#46039f\"], [0.2222222222222222, \"#7201a8\"], [0.3333333333333333, \"#9c179e\"], [0.4444444444444444, \"#bd3786\"], [0.5555555555555556, \"#d8576b\"], [0.6666666666666666, \"#ed7953\"], [0.7777777777777778, \"#fb9f3a\"], [0.8888888888888888, \"#fdca26\"], [1.0, \"#f0f921\"]], \"type\": \"histogram2dcontour\"}], \"mesh3d\": [{\"colorbar\": {\"outlinewidth\": 0, \"ticks\": \"\"}, \"type\": \"mesh3d\"}], \"parcoords\": [{\"line\": {\"colorbar\": {\"outlinewidth\": 0, \"ticks\": \"\"}}, \"type\": \"parcoords\"}], \"pie\": [{\"automargin\": true, \"type\": \"pie\"}], \"scatter\": [{\"marker\": {\"colorbar\": {\"outlinewidth\": 0, \"ticks\": \"\"}}, \"type\": \"scatter\"}], \"scatter3d\": [{\"line\": {\"colorbar\": {\"outlinewidth\": 0, \"ticks\": \"\"}}, \"marker\": {\"colorbar\": {\"outlinewidth\": 0, \"ticks\": \"\"}}, \"type\": \"scatter3d\"}], \"scattercarpet\": [{\"marker\": {\"colorbar\": {\"outlinewidth\": 0, \"ticks\": \"\"}}, \"type\": \"scattercarpet\"}], \"scattergeo\": [{\"marker\": {\"colorbar\": {\"outlinewidth\": 0, \"ticks\": \"\"}}, \"type\": \"scattergeo\"}], \"scattergl\": [{\"marker\": {\"colorbar\": {\"outlinewidth\": 0, \"ticks\": \"\"}}, \"type\": \"scattergl\"}], \"scattermapbox\": [{\"marker\": {\"colorbar\": {\"outlinewidth\": 0, \"ticks\": \"\"}}, \"type\": \"scattermapbox\"}], \"scatterpolar\": [{\"marker\": {\"colorbar\": {\"outlinewidth\": 0, \"ticks\": \"\"}}, \"type\": \"scatterpolar\"}], \"scatterpolargl\": [{\"marker\": {\"colorbar\": {\"outlinewidth\": 0, \"ticks\": \"\"}}, \"type\": \"scatterpolargl\"}], \"scatterternary\": [{\"marker\": {\"colorbar\": {\"outlinewidth\": 0, \"ticks\": \"\"}}, \"type\": \"scatterternary\"}], \"surface\": [{\"colorbar\": {\"outlinewidth\": 0, \"ticks\": \"\"}, \"colorscale\": [[0.0, \"#0d0887\"], [0.1111111111111111, \"#46039f\"], [0.2222222222222222, \"#7201a8\"], [0.3333333333333333, \"#9c179e\"], [0.4444444444444444, \"#bd3786\"], [0.5555555555555556, \"#d8576b\"], [0.6666666666666666, \"#ed7953\"], [0.7777777777777778, \"#fb9f3a\"], [0.8888888888888888, \"#fdca26\"], [1.0, \"#f0f921\"]], \"type\": \"surface\"}], \"table\": [{\"cells\": {\"fill\": {\"color\": \"#EBF0F8\"}, \"line\": {\"color\": \"white\"}}, \"header\": {\"fill\": {\"color\": \"#C8D4E3\"}, \"line\": {\"color\": \"white\"}}, \"type\": \"table\"}]}, \"layout\": {\"annotationdefaults\": {\"arrowcolor\": \"#2a3f5f\", \"arrowhead\": 0, \"arrowwidth\": 1}, \"autotypenumbers\": \"strict\", \"coloraxis\": {\"colorbar\": {\"outlinewidth\": 0, \"ticks\": \"\"}}, \"colorscale\": {\"diverging\": [[0, \"#8e0152\"], [0.1, \"#c51b7d\"], [0.2, \"#de77ae\"], [0.3, \"#f1b6da\"], [0.4, \"#fde0ef\"], [0.5, \"#f7f7f7\"], [0.6, \"#e6f5d0\"], [0.7, \"#b8e186\"], [0.8, \"#7fbc41\"], [0.9, \"#4d9221\"], [1, \"#276419\"]], \"sequential\": [[0.0, \"#0d0887\"], [0.1111111111111111, \"#46039f\"], [0.2222222222222222, \"#7201a8\"], [0.3333333333333333, \"#9c179e\"], [0.4444444444444444, \"#bd3786\"], [0.5555555555555556, \"#d8576b\"], [0.6666666666666666, \"#ed7953\"], [0.7777777777777778, \"#fb9f3a\"], [0.8888888888888888, \"#fdca26\"], [1.0, \"#f0f921\"]], \"sequentialminus\": [[0.0, \"#0d0887\"], [0.1111111111111111, \"#46039f\"], [0.2222222222222222, \"#7201a8\"], [0.3333333333333333, \"#9c179e\"], [0.4444444444444444, \"#bd3786\"], [0.5555555555555556, \"#d8576b\"], [0.6666666666666666, \"#ed7953\"], [0.7777777777777778, \"#fb9f3a\"], [0.8888888888888888, \"#fdca26\"], [1.0, \"#f0f921\"]]}, \"colorway\": [\"#636efa\", \"#EF553B\", \"#00cc96\", \"#ab63fa\", \"#FFA15A\", \"#19d3f3\", \"#FF6692\", \"#B6E880\", \"#FF97FF\", \"#FECB52\"], \"font\": {\"color\": \"#2a3f5f\"}, \"geo\": {\"bgcolor\": \"white\", \"lakecolor\": \"white\", \"landcolor\": \"#E5ECF6\", \"showlakes\": true, \"showland\": true, \"subunitcolor\": \"white\"}, \"hoverlabel\": {\"align\": \"left\"}, \"hovermode\": \"closest\", \"mapbox\": {\"style\": \"light\"}, \"paper_bgcolor\": \"white\", \"plot_bgcolor\": \"#E5ECF6\", \"polar\": {\"angularaxis\": {\"gridcolor\": \"white\", \"linecolor\": \"white\", \"ticks\": \"\"}, \"bgcolor\": \"#E5ECF6\", \"radialaxis\": {\"gridcolor\": \"white\", \"linecolor\": \"white\", \"ticks\": \"\"}}, \"scene\": {\"xaxis\": {\"backgroundcolor\": \"#E5ECF6\", \"gridcolor\": \"white\", \"gridwidth\": 2, \"linecolor\": \"white\", \"showbackground\": true, \"ticks\": \"\", \"zerolinecolor\": \"white\"}, \"yaxis\": {\"backgroundcolor\": \"#E5ECF6\", \"gridcolor\": \"white\", \"gridwidth\": 2, \"linecolor\": \"white\", \"showbackground\": true, \"ticks\": \"\", \"zerolinecolor\": \"white\"}, \"zaxis\": {\"backgroundcolor\": \"#E5ECF6\", \"gridcolor\": \"white\", \"gridwidth\": 2, \"linecolor\": \"white\", \"showbackground\": true, \"ticks\": \"\", \"zerolinecolor\": \"white\"}}, \"shapedefaults\": {\"line\": {\"color\": \"#2a3f5f\"}}, \"ternary\": {\"aaxis\": {\"gridcolor\": \"white\", \"linecolor\": \"white\", \"ticks\": \"\"}, \"baxis\": {\"gridcolor\": \"white\", \"linecolor\": \"white\", \"ticks\": \"\"}, \"bgcolor\": \"#E5ECF6\", \"caxis\": {\"gridcolor\": \"white\", \"linecolor\": \"white\", \"ticks\": \"\"}}, \"title\": {\"x\": 0.05}, \"xaxis\": {\"automargin\": true, \"gridcolor\": \"white\", \"linecolor\": \"white\", \"ticks\": \"\", \"title\": {\"standoff\": 15}, \"zerolinecolor\": \"white\", \"zerolinewidth\": 2}, \"yaxis\": {\"automargin\": true, \"gridcolor\": \"white\", \"linecolor\": \"white\", \"ticks\": \"\", \"title\": {\"standoff\": 15}, \"zerolinecolor\": \"white\", \"zerolinewidth\": 2}}}, \"title\": {\"text\": \"Custo do pior caminho: 84.7103 unidades\"}, \"updatemenus\": [{\"buttons\": [{\"args\": [null], \"label\": \"Play\", \"method\": \"animate\"}], \"type\": \"buttons\"}], \"xaxis\": {\"autorange\": false, \"range\": [-1, 10], \"showticklabels\": false, \"side\": \"top\", \"visible\": false}, \"yaxis\": {\"autorange\": false, \"range\": [11, -2], \"showticklabels\": false, \"visible\": false}},                        {\"responsive\": true}                    ).then(function(){\n",
              "                            Plotly.addFrames('a64fe76c-213d-4f95-a203-47436516a7d4', [{\"data\": [{\"marker\": {\"color\": [\"red\", \"blue\", \"blue\", \"blue\", \"blue\", \"blue\", \"blue\", \"blue\", \"blue\", \"blue\", \"blue\", \"blue\", \"blue\", \"red\"], \"size\": [10, 10, 10, 10, 10, 10, 10, 10, 10, 10, 10, 10, 10, 10]}, \"mode\": \"markers+text\", \"text\": [\"-1\", \"9\", \"3\", \"10\", \"11\", \"8\", \"6\", \"7\", \"12\", \"4\", \"2\", \"1\", \"5\", \"-1\"], \"textposition\": \"top center\", \"x\": [5, 4, 6, 3, 7, 1, 5, 2, 7, 1, 7, 0, 8, 5], \"y\": [3, 7, 1, 5, 2, 4, 4, 3, 6, 1, 7, 0, 9, 3], \"type\": \"scatter\"}]}, {\"data\": [{\"marker\": {\"color\": [\"red\", \"blue\", \"blue\", \"blue\", \"blue\", \"blue\", \"blue\", \"blue\", \"blue\", \"blue\", \"blue\", \"blue\", \"blue\", \"red\"], \"size\": [10, 10, 10, 10, 10, 10, 10, 10, 10, 10, 10, 10, 10, 10]}, \"mode\": \"markers+text\", \"text\": [\"-1\", \"9\", \"3\", \"10\", \"11\", \"8\", \"6\", \"7\", \"12\", \"4\", \"2\", \"1\", \"5\", \"-1\"], \"textposition\": \"top center\", \"x\": [5, 4, 6, 3, 7, 1, 5, 2, 7, 1, 7, 0, 8, 5], \"y\": [3, 7, 1, 5, 2, 4, 4, 3, 6, 1, 7, 0, 9, 3], \"type\": \"scatter\"}, {\"mode\": \"lines\", \"x\": [5, 4], \"y\": [3, 7], \"type\": \"scatter\"}]}, {\"data\": [{\"marker\": {\"color\": [\"red\", \"blue\", \"blue\", \"blue\", \"blue\", \"blue\", \"blue\", \"blue\", \"blue\", \"blue\", \"blue\", \"blue\", \"blue\", \"red\"], \"size\": [10, 10, 10, 10, 10, 10, 10, 10, 10, 10, 10, 10, 10, 10]}, \"mode\": \"markers+text\", \"text\": [\"-1\", \"9\", \"3\", \"10\", \"11\", \"8\", \"6\", \"7\", \"12\", \"4\", \"2\", \"1\", \"5\", \"-1\"], \"textposition\": \"top center\", \"x\": [5, 4, 6, 3, 7, 1, 5, 2, 7, 1, 7, 0, 8, 5], \"y\": [3, 7, 1, 5, 2, 4, 4, 3, 6, 1, 7, 0, 9, 3], \"type\": \"scatter\"}, {\"mode\": \"lines\", \"x\": [5, 4, 6], \"y\": [3, 7, 1], \"type\": \"scatter\"}]}, {\"data\": [{\"marker\": {\"color\": [\"red\", \"blue\", \"blue\", \"blue\", \"blue\", \"blue\", \"blue\", \"blue\", \"blue\", \"blue\", \"blue\", \"blue\", \"blue\", \"red\"], \"size\": [10, 10, 10, 10, 10, 10, 10, 10, 10, 10, 10, 10, 10, 10]}, \"mode\": \"markers+text\", \"text\": [\"-1\", \"9\", \"3\", \"10\", \"11\", \"8\", \"6\", \"7\", \"12\", \"4\", \"2\", \"1\", \"5\", \"-1\"], \"textposition\": \"top center\", \"x\": [5, 4, 6, 3, 7, 1, 5, 2, 7, 1, 7, 0, 8, 5], \"y\": [3, 7, 1, 5, 2, 4, 4, 3, 6, 1, 7, 0, 9, 3], \"type\": \"scatter\"}, {\"mode\": \"lines\", \"x\": [5, 4, 6, 3], \"y\": [3, 7, 1, 5], \"type\": \"scatter\"}]}, {\"data\": [{\"marker\": {\"color\": [\"red\", \"blue\", \"blue\", \"blue\", \"blue\", \"blue\", \"blue\", \"blue\", \"blue\", \"blue\", \"blue\", \"blue\", \"blue\", \"red\"], \"size\": [10, 10, 10, 10, 10, 10, 10, 10, 10, 10, 10, 10, 10, 10]}, \"mode\": \"markers+text\", \"text\": [\"-1\", \"9\", \"3\", \"10\", \"11\", \"8\", \"6\", \"7\", \"12\", \"4\", \"2\", \"1\", \"5\", \"-1\"], \"textposition\": \"top center\", \"x\": [5, 4, 6, 3, 7, 1, 5, 2, 7, 1, 7, 0, 8, 5], \"y\": [3, 7, 1, 5, 2, 4, 4, 3, 6, 1, 7, 0, 9, 3], \"type\": \"scatter\"}, {\"mode\": \"lines\", \"x\": [5, 4, 6, 3, 7], \"y\": [3, 7, 1, 5, 2], \"type\": \"scatter\"}]}, {\"data\": [{\"marker\": {\"color\": [\"red\", \"blue\", \"blue\", \"blue\", \"blue\", \"blue\", \"blue\", \"blue\", \"blue\", \"blue\", \"blue\", \"blue\", \"blue\", \"red\"], \"size\": [10, 10, 10, 10, 10, 10, 10, 10, 10, 10, 10, 10, 10, 10]}, \"mode\": \"markers+text\", \"text\": [\"-1\", \"9\", \"3\", \"10\", \"11\", \"8\", \"6\", \"7\", \"12\", \"4\", \"2\", \"1\", \"5\", \"-1\"], \"textposition\": \"top center\", \"x\": [5, 4, 6, 3, 7, 1, 5, 2, 7, 1, 7, 0, 8, 5], \"y\": [3, 7, 1, 5, 2, 4, 4, 3, 6, 1, 7, 0, 9, 3], \"type\": \"scatter\"}, {\"mode\": \"lines\", \"x\": [5, 4, 6, 3, 7, 1], \"y\": [3, 7, 1, 5, 2, 4], \"type\": \"scatter\"}]}, {\"data\": [{\"marker\": {\"color\": [\"red\", \"blue\", \"blue\", \"blue\", \"blue\", \"blue\", \"blue\", \"blue\", \"blue\", \"blue\", \"blue\", \"blue\", \"blue\", \"red\"], \"size\": [10, 10, 10, 10, 10, 10, 10, 10, 10, 10, 10, 10, 10, 10]}, \"mode\": \"markers+text\", \"text\": [\"-1\", \"9\", \"3\", \"10\", \"11\", \"8\", \"6\", \"7\", \"12\", \"4\", \"2\", \"1\", \"5\", \"-1\"], \"textposition\": \"top center\", \"x\": [5, 4, 6, 3, 7, 1, 5, 2, 7, 1, 7, 0, 8, 5], \"y\": [3, 7, 1, 5, 2, 4, 4, 3, 6, 1, 7, 0, 9, 3], \"type\": \"scatter\"}, {\"mode\": \"lines\", \"x\": [5, 4, 6, 3, 7, 1, 5], \"y\": [3, 7, 1, 5, 2, 4, 4], \"type\": \"scatter\"}]}, {\"data\": [{\"marker\": {\"color\": [\"red\", \"blue\", \"blue\", \"blue\", \"blue\", \"blue\", \"blue\", \"blue\", \"blue\", \"blue\", \"blue\", \"blue\", \"blue\", \"red\"], \"size\": [10, 10, 10, 10, 10, 10, 10, 10, 10, 10, 10, 10, 10, 10]}, \"mode\": \"markers+text\", \"text\": [\"-1\", \"9\", \"3\", \"10\", \"11\", \"8\", \"6\", \"7\", \"12\", \"4\", \"2\", \"1\", \"5\", \"-1\"], \"textposition\": \"top center\", \"x\": [5, 4, 6, 3, 7, 1, 5, 2, 7, 1, 7, 0, 8, 5], \"y\": [3, 7, 1, 5, 2, 4, 4, 3, 6, 1, 7, 0, 9, 3], \"type\": \"scatter\"}, {\"mode\": \"lines\", \"x\": [5, 4, 6, 3, 7, 1, 5, 2], \"y\": [3, 7, 1, 5, 2, 4, 4, 3], \"type\": \"scatter\"}]}, {\"data\": [{\"marker\": {\"color\": [\"red\", \"blue\", \"blue\", \"blue\", \"blue\", \"blue\", \"blue\", \"blue\", \"blue\", \"blue\", \"blue\", \"blue\", \"blue\", \"red\"], \"size\": [10, 10, 10, 10, 10, 10, 10, 10, 10, 10, 10, 10, 10, 10]}, \"mode\": \"markers+text\", \"text\": [\"-1\", \"9\", \"3\", \"10\", \"11\", \"8\", \"6\", \"7\", \"12\", \"4\", \"2\", \"1\", \"5\", \"-1\"], \"textposition\": \"top center\", \"x\": [5, 4, 6, 3, 7, 1, 5, 2, 7, 1, 7, 0, 8, 5], \"y\": [3, 7, 1, 5, 2, 4, 4, 3, 6, 1, 7, 0, 9, 3], \"type\": \"scatter\"}, {\"mode\": \"lines\", \"x\": [5, 4, 6, 3, 7, 1, 5, 2, 7], \"y\": [3, 7, 1, 5, 2, 4, 4, 3, 6], \"type\": \"scatter\"}]}, {\"data\": [{\"marker\": {\"color\": [\"red\", \"blue\", \"blue\", \"blue\", \"blue\", \"blue\", \"blue\", \"blue\", \"blue\", \"blue\", \"blue\", \"blue\", \"blue\", \"red\"], \"size\": [10, 10, 10, 10, 10, 10, 10, 10, 10, 10, 10, 10, 10, 10]}, \"mode\": \"markers+text\", \"text\": [\"-1\", \"9\", \"3\", \"10\", \"11\", \"8\", \"6\", \"7\", \"12\", \"4\", \"2\", \"1\", \"5\", \"-1\"], \"textposition\": \"top center\", \"x\": [5, 4, 6, 3, 7, 1, 5, 2, 7, 1, 7, 0, 8, 5], \"y\": [3, 7, 1, 5, 2, 4, 4, 3, 6, 1, 7, 0, 9, 3], \"type\": \"scatter\"}, {\"mode\": \"lines\", \"x\": [5, 4, 6, 3, 7, 1, 5, 2, 7, 1], \"y\": [3, 7, 1, 5, 2, 4, 4, 3, 6, 1], \"type\": \"scatter\"}]}, {\"data\": [{\"marker\": {\"color\": [\"red\", \"blue\", \"blue\", \"blue\", \"blue\", \"blue\", \"blue\", \"blue\", \"blue\", \"blue\", \"blue\", \"blue\", \"blue\", \"red\"], \"size\": [10, 10, 10, 10, 10, 10, 10, 10, 10, 10, 10, 10, 10, 10]}, \"mode\": \"markers+text\", \"text\": [\"-1\", \"9\", \"3\", \"10\", \"11\", \"8\", \"6\", \"7\", \"12\", \"4\", \"2\", \"1\", \"5\", \"-1\"], \"textposition\": \"top center\", \"x\": [5, 4, 6, 3, 7, 1, 5, 2, 7, 1, 7, 0, 8, 5], \"y\": [3, 7, 1, 5, 2, 4, 4, 3, 6, 1, 7, 0, 9, 3], \"type\": \"scatter\"}, {\"mode\": \"lines\", \"x\": [5, 4, 6, 3, 7, 1, 5, 2, 7, 1, 7], \"y\": [3, 7, 1, 5, 2, 4, 4, 3, 6, 1, 7], \"type\": \"scatter\"}]}, {\"data\": [{\"marker\": {\"color\": [\"red\", \"blue\", \"blue\", \"blue\", \"blue\", \"blue\", \"blue\", \"blue\", \"blue\", \"blue\", \"blue\", \"blue\", \"blue\", \"red\"], \"size\": [10, 10, 10, 10, 10, 10, 10, 10, 10, 10, 10, 10, 10, 10]}, \"mode\": \"markers+text\", \"text\": [\"-1\", \"9\", \"3\", \"10\", \"11\", \"8\", \"6\", \"7\", \"12\", \"4\", \"2\", \"1\", \"5\", \"-1\"], \"textposition\": \"top center\", \"x\": [5, 4, 6, 3, 7, 1, 5, 2, 7, 1, 7, 0, 8, 5], \"y\": [3, 7, 1, 5, 2, 4, 4, 3, 6, 1, 7, 0, 9, 3], \"type\": \"scatter\"}, {\"mode\": \"lines\", \"x\": [5, 4, 6, 3, 7, 1, 5, 2, 7, 1, 7, 0], \"y\": [3, 7, 1, 5, 2, 4, 4, 3, 6, 1, 7, 0], \"type\": \"scatter\"}]}, {\"data\": [{\"marker\": {\"color\": [\"red\", \"blue\", \"blue\", \"blue\", \"blue\", \"blue\", \"blue\", \"blue\", \"blue\", \"blue\", \"blue\", \"blue\", \"blue\", \"red\"], \"size\": [10, 10, 10, 10, 10, 10, 10, 10, 10, 10, 10, 10, 10, 10]}, \"mode\": \"markers+text\", \"text\": [\"-1\", \"9\", \"3\", \"10\", \"11\", \"8\", \"6\", \"7\", \"12\", \"4\", \"2\", \"1\", \"5\", \"-1\"], \"textposition\": \"top center\", \"x\": [5, 4, 6, 3, 7, 1, 5, 2, 7, 1, 7, 0, 8, 5], \"y\": [3, 7, 1, 5, 2, 4, 4, 3, 6, 1, 7, 0, 9, 3], \"type\": \"scatter\"}, {\"mode\": \"lines\", \"x\": [5, 4, 6, 3, 7, 1, 5, 2, 7, 1, 7, 0, 8], \"y\": [3, 7, 1, 5, 2, 4, 4, 3, 6, 1, 7, 0, 9], \"type\": \"scatter\"}]}, {\"data\": [{\"marker\": {\"color\": [\"red\", \"blue\", \"blue\", \"blue\", \"blue\", \"blue\", \"blue\", \"blue\", \"blue\", \"blue\", \"blue\", \"blue\", \"blue\", \"red\"], \"size\": [10, 10, 10, 10, 10, 10, 10, 10, 10, 10, 10, 10, 10, 10]}, \"mode\": \"markers+text\", \"text\": [\"-1\", \"9\", \"3\", \"10\", \"11\", \"8\", \"6\", \"7\", \"12\", \"4\", \"2\", \"1\", \"5\", \"-1\"], \"textposition\": \"top center\", \"x\": [5, 4, 6, 3, 7, 1, 5, 2, 7, 1, 7, 0, 8, 5], \"y\": [3, 7, 1, 5, 2, 4, 4, 3, 6, 1, 7, 0, 9, 3], \"type\": \"scatter\"}, {\"mode\": \"lines\", \"x\": [5, 4, 6, 3, 7, 1, 5, 2, 7, 1, 7, 0, 8, 5], \"y\": [3, 7, 1, 5, 2, 4, 4, 3, 6, 1, 7, 0, 9, 3], \"type\": \"scatter\"}]}]);\n",
              "                        }).then(function(){\n",
              "                            \n",
              "var gd = document.getElementById('a64fe76c-213d-4f95-a203-47436516a7d4');\n",
              "var x = new MutationObserver(function (mutations, observer) {{\n",
              "        var display = window.getComputedStyle(gd).display;\n",
              "        if (!display || display === 'none') {{\n",
              "            console.log([gd, 'removed!']);\n",
              "            Plotly.purge(gd);\n",
              "            observer.disconnect();\n",
              "        }}\n",
              "}});\n",
              "\n",
              "// Listen for the removal of the full notebook cells\n",
              "var notebookContainer = gd.closest('#notebook-container');\n",
              "if (notebookContainer) {{\n",
              "    x.observe(notebookContainer, {childList: true});\n",
              "}}\n",
              "\n",
              "// Listen for the clearing of the current output cell\n",
              "var outputEl = gd.closest('.output');\n",
              "if (outputEl) {{\n",
              "    x.observe(outputEl, {childList: true});\n",
              "}}\n",
              "\n",
              "                        })                };                            </script>        </div>\n",
              "</body>\n",
              "</html>"
            ]
          },
          "metadata": {
            "tags": []
          }
        }
      ]
    },
    {
      "cell_type": "markdown",
      "metadata": {
        "id": "uMHsYr1lJWSG"
      },
      "source": [
        "## Tempo de Execução\n",
        "\n",
        "(Considerando a capacidade de processamento de um computador AMD Ryzen 5 2600 3.4GHz.)"
      ]
    },
    {
      "cell_type": "markdown",
      "metadata": {
        "id": "ch5imKiBKrI4"
      },
      "source": [
        "### Análise do tempo de execução"
      ]
    },
    {
      "cell_type": "code",
      "metadata": {
        "colab": {
          "base_uri": "https://localhost:8080/",
          "height": 542
        },
        "id": "v-ERr8lfS0zx",
        "outputId": "eba6afaf-9621-460c-c194-723fd5065654"
      },
      "source": [
        "#@markdown\n",
        "verificado = [[1, 0.000039],      \n",
        "              [2, 0.000057], \n",
        "              [3, 0.000142], \n",
        "              [4, 0.000534],\n",
        "              [5, 0.001510], \n",
        "              [6, 0.003867], \n",
        "              [7, 0.047474], \n",
        "              [8, 0.099958], \n",
        "              [9, 0.888257], \n",
        "              [10, 9.059275], \n",
        "              [11, 101.434492],\n",
        "              [12, 1259.933144], \n",
        "              [13, 16827.891443]]\n",
        "\n",
        "X = np.linspace(0, 14, 500)\n",
        "Y = scipy.special.gamma(X + 1) * 2.701967902460184e-06\n",
        "\n",
        "x, y = zip(*verificado)\n",
        "\n",
        "fig = go.Figure()\n",
        "fig.update_xaxes(dtick=1, title=\"Tamanho da Entrada\")\n",
        "fig.update_yaxes(range=[0, 18000], title=\"Tempo de Execução em Segundos\")\n",
        "fig.add_trace(go.Scatter(x=X, y=Y, mode='lines', name='Aproximação fatorial'))\n",
        "fig.add_trace(go.Scatter(x=x, y=y, mode='markers', name='Tempo Verificado'))\n",
        "fig.update_layout(showlegend=False, title={\n",
        "        'text': \"<b>Variação do Tempo de Execução X Tamanho da Entrada</b>\",\n",
        "        'y':0.9,\n",
        "        'x':0.5,\n",
        "        'xanchor': 'center',\n",
        "        'yanchor': 'top',\n",
        "        'font' : {'size': 18}\n",
        "        })\n",
        "\n",
        "fig.show()"
      ],
      "execution_count": null,
      "outputs": [
        {
          "output_type": "display_data",
          "data": {
            "text/html": [
              "<html>\n",
              "<head><meta charset=\"utf-8\" /></head>\n",
              "<body>\n",
              "    <div>            <script src=\"https://cdnjs.cloudflare.com/ajax/libs/mathjax/2.7.5/MathJax.js?config=TeX-AMS-MML_SVG\"></script><script type=\"text/javascript\">if (window.MathJax) {MathJax.Hub.Config({SVG: {font: \"STIX-Web\"}});}</script>                <script type=\"text/javascript\">window.PlotlyConfig = {MathJaxConfig: 'local'};</script>\n",
              "        <script src=\"https://cdn.plot.ly/plotly-latest.min.js\"></script>                <div id=\"2993070f-9dd2-4020-a51c-49b6568118f5\" class=\"plotly-graph-div\" style=\"height:525px; width:100%;\"></div>            <script type=\"text/javascript\">                                    window.PLOTLYENV=window.PLOTLYENV || {};                                    if (document.getElementById(\"2993070f-9dd2-4020-a51c-49b6568118f5\")) {                    Plotly.newPlot(                        \"2993070f-9dd2-4020-a51c-49b6568118f5\",                        [{\"mode\": \"lines\", \"name\": \"Aproxima\\u00e7\\u00e3o fatorial\", \"type\": \"scatter\", \"x\": [0.0, 0.028056112224448898, 0.056112224448897796, 0.0841683366733467, 0.11222444889779559, 0.1402805611222445, 0.1683366733466934, 0.1963927855711423, 0.22444889779559118, 0.2525050100200401, 0.280561122244489, 0.30861723446893785, 0.3366733466933868, 0.3647294589178357, 0.3927855711422846, 0.42084168336673344, 0.44889779559118237, 0.4769539078156313, 0.5050100200400802, 0.533066132264529, 0.561122244488978, 0.5891783567134269, 0.6172344689378757, 0.6452905811623246, 0.6733466933867736, 0.7014028056112225, 0.7294589178356714, 0.7575150300601202, 0.7855711422845691, 0.8136272545090181, 0.8416833667334669, 0.8697394789579158, 0.8977955911823647, 0.9258517034068137, 0.9539078156312626, 0.9819639278557114, 1.0100200400801604, 1.0380761523046091, 1.066132264529058, 1.094188376753507, 1.122244488977956, 1.1503006012024048, 1.1783567134268538, 1.2064128256513027, 1.2344689378757514, 1.2625250501002003, 1.2905811623246493, 1.3186372745490982, 1.346693386773547, 1.374749498997996, 1.402805611222445, 1.4308617234468939, 1.4589178356713428, 1.4869739478957915, 1.5150300601202404, 1.5430861723446894, 1.5711422845691383, 1.5991983967935872, 1.6272545090180361, 1.655310621242485, 1.6833667334669338, 1.7114228456913827, 1.7394789579158316, 1.7675350701402806, 1.7955911823647295, 1.8236472945891784, 1.8517034068136273, 1.8797595190380763, 1.9078156312625252, 1.9358717434869739, 1.9639278557114228, 1.9919839679358717, 2.020040080160321, 2.0480961923847696, 2.0761523046092183, 2.1042084168336674, 2.132264529058116, 2.1603206412825653, 2.188376753507014, 2.216432865731463, 2.244488977955912, 2.2725450901803605, 2.3006012024048097, 2.3286573146292584, 2.3567134268537075, 2.3847695390781563, 2.4128256513026054, 2.440881763527054, 2.468937875751503, 2.496993987975952, 2.5250501002004007, 2.55310621242485, 2.5811623246492985, 2.6092184368737477, 2.6372745490981964, 2.6653306613226455, 2.693386773547094, 2.721442885771543, 2.749498997995992, 2.7775551102204408, 2.80561122244489, 2.8336673346693386, 2.8617234468937878, 2.8897795591182365, 2.9178356713426856, 2.9458917835671343, 2.973947895791583, 3.002004008016032, 3.030060120240481, 3.05811623246493, 3.0861723446893787, 3.114228456913828, 3.1422845691382766, 3.1703406813627253, 3.1983967935871744, 3.226452905811623, 3.2545090180360723, 3.282565130260521, 3.31062124248497, 3.338677354709419, 3.3667334669338675, 3.3947895791583167, 3.4228456913827654, 3.4509018036072145, 3.4789579158316633, 3.5070140280561124, 3.535070140280561, 3.5631262525050102, 3.591182364729459, 3.6192384769539077, 3.647294589178357, 3.6753507014028055, 3.7034068136272547, 3.7314629258517034, 3.7595190380761525, 3.787575150300601, 3.8156312625250504, 3.843687374749499, 3.8717434869739478, 3.899799599198397, 3.9278557114228456, 3.9559118236472948, 3.9839679358717435, 4.012024048096192, 4.040080160320642, 4.0681362725450905, 4.096192384769539, 4.124248496993988, 4.152304609218437, 4.180360721442886, 4.208416833667335, 4.236472945891784, 4.264529058116232, 4.292585170340681, 4.320641282565131, 4.348697394789579, 4.376753507014028, 4.404809619238477, 4.432865731462926, 4.460921843687375, 4.488977955911824, 4.517034068136272, 4.545090180360721, 4.573146292585171, 4.601202404809619, 4.629258517034068, 4.657314629258517, 4.685370741482966, 4.713426853707415, 4.741482965931864, 4.7695390781563125, 4.797595190380761, 4.825651302605211, 4.8537074148296595, 4.881763527054108, 4.909819639278557, 4.937875751503006, 4.965931863727455, 4.993987975951904, 5.022044088176353, 5.050100200400801, 5.078156312625251, 5.1062124248497, 5.134268537074148, 5.162324649298597, 5.190380761523046, 5.218436873747495, 5.246492985971944, 5.274549098196393, 5.302605210420841, 5.330661322645291, 5.35871743486974, 5.386773547094188, 5.414829659318637, 5.442885771543086, 5.470941883767535, 5.498997995991984, 5.527054108216433, 5.5551102204408815, 5.583166332665331, 5.61122244488978, 5.6392785571142285, 5.667334669338677, 5.695390781563126, 5.7234468937875755, 5.751503006012024, 5.779559118236473, 5.807615230460922, 5.835671342685371, 5.86372745490982, 5.891783567134269, 5.919839679358717, 5.947895791583166, 5.975951903807616, 6.004008016032064, 6.032064128256513, 6.060120240480962, 6.0881763527054105, 6.11623246492986, 6.144288577154309, 6.1723446893787575, 6.200400801603206, 6.228456913827656, 6.2565130260521045, 6.284569138276553, 6.312625250501002, 6.340681362725451, 6.3687374749499, 6.396793587174349, 6.424849699398798, 6.452905811623246, 6.480961923847696, 6.509018036072145, 6.537074148296593, 6.565130260521042, 6.593186372745491, 6.62124248496994, 6.649298597194389, 6.677354709418838, 6.705410821643286, 6.733466933867735, 6.761523046092185, 6.789579158316633, 6.817635270541082, 6.845691382765531, 6.87374749498998, 6.901803607214429, 6.929859719438878, 6.9579158316633265, 6.985971943887775, 7.014028056112225, 7.0420841683366735, 7.070140280561122, 7.098196392785571, 7.1262525050100205, 7.154308617234469, 7.182364729458918, 7.210420841683367, 7.238476953907815, 7.266533066132265, 7.294589178356714, 7.322645290581162, 7.350701402805611, 7.378757515030061, 7.406813627254509, 7.434869739478958, 7.462925851703407, 7.490981963927855, 7.519038076152305, 7.547094188376754, 7.575150300601202, 7.603206412825651, 7.631262525050101, 7.659318637274549, 7.687374749498998, 7.715430861723447, 7.7434869739478955, 7.771543086172345, 7.799599198396794, 7.8276553106212425, 7.855711422845691, 7.88376753507014, 7.9118236472945895, 7.939879759519038, 7.967935871743487, 7.995991983967936, 8.024048096192384, 8.052104208416834, 8.080160320641284, 8.108216432865731, 8.136272545090181, 8.164328657314629, 8.192384769539078, 8.220440881763528, 8.248496993987976, 8.276553106212425, 8.304609218436873, 8.332665330661323, 8.360721442885772, 8.38877755511022, 8.41683366733467, 8.444889779559118, 8.472945891783567, 8.501002004008017, 8.529058116232465, 8.557114228456914, 8.585170340681362, 8.613226452905812, 8.641282565130261, 8.669338677354709, 8.697394789579159, 8.725450901803608, 8.753507014028056, 8.781563126252506, 8.809619238476953, 8.837675350701403, 8.865731462925853, 8.8937875751503, 8.92184368737475, 8.949899799599198, 8.977955911823647, 9.006012024048097, 9.034068136272545, 9.062124248496994, 9.090180360721442, 9.118236472945892, 9.146292585170341, 9.17434869739479, 9.202404809619239, 9.230460921843687, 9.258517034068136, 9.286573146292586, 9.314629258517034, 9.342685370741483, 9.370741482965933, 9.39879759519038, 9.42685370741483, 9.454909819639278, 9.482965931863728, 9.511022044088177, 9.539078156312625, 9.567134268537075, 9.595190380761522, 9.623246492985972, 9.651302605210422, 9.67935871743487, 9.707414829659319, 9.735470941883767, 9.763527054108216, 9.791583166332666, 9.819639278557114, 9.847695390781563, 9.875751503006011, 9.90380761523046, 9.93186372745491, 9.959919839679358, 9.987975951903808, 10.016032064128257, 10.044088176352705, 10.072144288577155, 10.100200400801603, 10.128256513026052, 10.156312625250502, 10.18436873747495, 10.2124248496994, 10.240480961923847, 10.268537074148297, 10.296593186372746, 10.324649298597194, 10.352705410821644, 10.380761523046091, 10.408817635270541, 10.43687374749499, 10.464929859719438, 10.492985971943888, 10.521042084168338, 10.549098196392785, 10.577154308617235, 10.605210420841683, 10.633266533066132, 10.661322645290582, 10.68937875751503, 10.71743486973948, 10.745490981963927, 10.773547094188377, 10.801603206412826, 10.829659318637274, 10.857715430861724, 10.885771543086172, 10.913827655310621, 10.94188376753507, 10.969939879759519, 10.997995991983968, 11.026052104208416, 11.054108216432866, 11.082164328657315, 11.110220440881763, 11.138276553106213, 11.166332665330662, 11.19438877755511, 11.22244488977956, 11.250501002004007, 11.278557114228457, 11.306613226452907, 11.334669338677354, 11.362725450901804, 11.390781563126252, 11.418837675350701, 11.446893787575151, 11.474949899799599, 11.503006012024048, 11.531062124248496, 11.559118236472946, 11.587174348697395, 11.615230460921843, 11.643286573146293, 11.671342685370742, 11.69939879759519, 11.72745490981964, 11.755511022044088, 11.783567134268537, 11.811623246492987, 11.839679358717435, 11.867735470941884, 11.895791583166332, 11.923847695390782, 11.951903807615231, 11.97995991983968, 12.008016032064129, 12.036072144288577, 12.064128256513026, 12.092184368737476, 12.120240480961924, 12.148296593186373, 12.176352705410821, 12.20440881763527, 12.23246492985972, 12.260521042084168, 12.288577154308618, 12.316633266533067, 12.344689378757515, 12.372745490981965, 12.400801603206412, 12.428857715430862, 12.456913827655312, 12.48496993987976, 12.513026052104209, 12.541082164328657, 12.569138276553106, 12.597194388777556, 12.625250501002004, 12.653306613226453, 12.681362725450901, 12.70941883767535, 12.7374749498998, 12.765531062124248, 12.793587174348698, 12.821643286573146, 12.849699398797595, 12.877755511022045, 12.905811623246493, 12.933867735470942, 12.961923847695392, 12.98997995991984, 13.01803607214429, 13.046092184368737, 13.074148296593187, 13.102204408817636, 13.130260521042084, 13.158316633266534, 13.186372745490981, 13.214428857715431, 13.24248496993988, 13.270541082164328, 13.298597194388778, 13.326653306613226, 13.354709418837675, 13.382765531062125, 13.410821643286573, 13.438877755511022, 13.46693386773547, 13.49498997995992, 13.52304609218437, 13.551102204408817, 13.579158316633267, 13.607214428857716, 13.635270541082164, 13.663326653306614, 13.691382765531062, 13.719438877755511, 13.74749498997996, 13.775551102204409, 13.803607214428858, 13.831663326653306, 13.859719438877756, 13.887775551102205, 13.915831663326653, 13.943887775551103, 13.97194388777555, 14.0], \"y\": [2.701967902460184e-06, 2.6602620933525357e-06, 2.6224602173437737e-06, 2.58829026855257e-06, 2.5575103861780064e-06, 2.529905166518322e-06, 2.505282514375079e-06, 2.4834709450700737e-06, 2.464317264623104e-06, 2.4476845686652353e-06, 2.4334505111168527e-06, 2.4215058020942812e-06, 2.4117529013477118e-06, 2.404104879104797e-06, 2.398484420754226e-06, 2.394822955551935e-06, 2.3930598926266614e-06, 2.3931419501258373e-06, 2.395022565476334e-06, 2.398661376516191e-06, 2.4040237647466845e-06, 2.411080453209915e-06, 2.4198071525568227e-06, 2.43018424976771e-06, 2.442196534749377e-06, 2.455832960682146e-06, 2.471086434544867e-06, 2.487953634721508e-06, 2.506434853001763e-06, 2.5265338586405946e-06, 2.5482577824464615e-06, 2.57161701913239e-06, 2.5966251463940433e-06, 2.623298859379681e-06, 2.651657919392577e-06, 2.6817251158207883e-06, 2.7135262404251236e-06, 2.7470900732363694e-06, 2.7824483794195812e-06, 2.819635916558279e-06, 2.8586904518965327e-06, 2.8996527891533004e-06, 2.9425668045925185e-06, 2.9874794920950167e-06, 3.034441017035591e-06, 3.0835047788209807e-06, 3.1347274819929537e-06, 3.1881692158457345e-06, 3.2438935425490722e-06, 3.301967593807894e-06, 3.3624621761271193e-06, 3.4254518847860724e-06, 3.4910152266615163e-06, 3.5592347520717916e-06, 3.630197195847262e-06, 3.7039936278643034e-06, 3.7807196133119215e-06, 3.860475382991634e-06, 3.943366013982946e-06, 4.0295016210386315e-06, 4.118997559106291e-06, 4.211974637405466e-06, 4.30855934552313e-06, 4.408884092024712e-06, 4.51308745611319e-06, 4.621314452905274e-06, 4.7337168129314335e-06, 4.850453276505801e-06, 4.971689903652633e-06, 5.097600400318564e-06, 5.2283664616441245e-06, 5.364178133114373e-06, 5.505234190456944e-06, 5.651742539206638e-06, 5.803920634908946e-06, 5.961995924990857e-06, 6.126206313386088e-06, 6.2968006490637084e-06, 6.474039239674105e-06, 6.6581943915947795e-06, 6.849550977730463e-06, 7.048407034498171e-06, 7.2550743895077035e-06, 7.469879321532699e-06, 7.693163254456392e-06, 7.925283486970067e-06, 8.166613959901635e-06, 8.41754606315612e-06, 8.678489484360693e-06, 8.949873101423408e-06, 9.232145921338103e-06, 9.525778067698322e-06, 9.831261819520445e-06, 1.0149112704121937e-05, 1.0479870646954001e-05, 1.082410118145059e-05, 1.1182396722127245e-05, 1.1555377904345e-05, 1.1943694994346296e-05, 1.2348029373372969e-05, 1.2769095099891215e-05, 1.320764055417507e-05, 1.366445016974074e-05, 1.4140346256377605e-05, 1.4636190919791153e-05, 1.5152888083157093e-05, 1.5691385616187307e-05, 1.6252677577626663e-05, 1.6837806577436973e-05, 1.744786626528133e-05, 1.808400395229999e-05, 1.8747423373568532e-05, 1.943938759905308e-05, 2.016122210132573e-05, 2.0914317988777223e-05, 2.17001354135687e-05, 2.2520207164094826e-05, 2.3376142452296098e-05, 2.4269630906755767e-05, 2.5202446783148357e-05, 2.6176453404279763e-05, 2.7193607842667383e-05, 2.8255965859362812e-05, 2.9365687113518004e-05, 3.052504065803946e-05, 3.1736410737574224e-05, 3.300230290601864e-05, 3.4325350481749547e-05, 3.570832135984495e-05, 3.7154125201692184e-05, 3.8665821023582985e-05, 4.0246625207165973e-05, 4.1899919955977655e-05, 4.362926222370385e-05, 4.543839314134046e-05, 4.7331247972033455e-05, 4.9311966624086325e-05, 5.1384904754431634e-05, 5.3554645496790834e-05, 5.582601185078067e-05, 5.820407977039099e-05, 6.069419199255647e-05, 6.33019726489767e-05, 6.603334270693282e-05, 6.88945362875873e-05, 7.189211791317144e-05, 7.503300073755882e-05, 7.832446581800451e-05, 8.177418248931957e-05, 8.53902299054519e-05, 8.918111981737501e-05, 9.315582066036483e-05, 9.732378302817472e-05, 0.00010169496661633211, 0.0001062798687217825, 0.00011108955439141798, 0.00011613568831767983, 0.00012143056858541431, 0.00012698716238054256, 0.00013281914377787126, 0.00013894093373257392, 0.0001453677424075135, 0.0001521156139767125, 0.00015920147405391405, 0.00016664317990436128, 0.00017445957360768941, 0.00018267053835019983, 0.00019129705803582646, 0.00020036128041683702, 0.0002098865839577925, 0.00021989764865955384, 0.0002304205310842437, 0.00024148274383707768, 0.00025311333977694596, 0.00026534300124461636, 0.0002782041346154878, 0.00029173097050305674, 0.000305959669959707, 0.00032092843704319233, 0.0003366776381403548, 0.00035324992846424595, 0.0003706903861670671, 0.0003890466545392495, 0.0004083690927947276, 0.0004287109359740672, 0.0004501284645308175, 0.0004726811842022851, 0.0004964320168041147, 0.000521447502628715, 0.0005477980151708396, 0.0005755579889497418, 0.0006048061612464168, 0.0006356258286267376, 0.0006681051191769815, 0.0007023372814375916, 0.0007384209910842219, 0.0007764606764724534, 0.0008165668642343449, 0.0008588565461913996, 0.0009034535689300482, 0.0009504890474725282, 0.0010001018045686298, 0.0010524388372323429, 0.001107655812252624, 0.0011659175925195385, 0.001227398796126497, 0.0012922843903367147, 0.0013607703226377467, 0.0014330641912528403, 0.0015093859576321654, 0.00158996870361174, 0.001675059436103373, 0.0017649199423663265, 0.001859827699111148, 0.0019600768388992064, 0.002065979177528859, 0.0021778653063416224, 0.0022960857536405577, 0.0024210122196891373, 0.0025530388900534434, 0.002692583832365035, 0.002840090481917173, 0.0029960292218653268, 0.0031608990641849716, 0.003335229437947777, 0.003519582091912571, 0.0037145531188926186, 0.003920775109856906, 0.004138919446253167, 0.004369698739606264, 0.004613869428049682, 0.004872234540093256, 0.005145646636619305, 0.005435010942835548, 0.00574128868269897, 0.006065500629164996, 0.0064087308845130146, 0.006772130905957856, 0.00715692379278072, 0.007564408852306804, 0.007995966463226083, 0.008453063256002672, 0.008937257631452995, 0.009450205639999956, 0.009993667245634536, 0.010569513000246498, 0.0111797311557277, 0.011826435243114171, 0.012511872150023447, 0.01323843072977304, 0.014008650977841132, 0.014825233813764648, 0.01569105150917171, 0.016609158805428795, 0.017582804767359145, 0.018615445422671205, 0.019710757240142512, 0.020872651503244858, 0.02210528963979287, 0.02341309957236644, 0.024800793158716812, 0.026273384796136796, 0.027836211268879456, 0.02949495292317539, 0.03125565626024196, 0.033124758043933965, 0.035109111026383956, 0.03721601140214462, 0.03945322810901757, 0.041829034101964355, 0.0443522397352917, 0.04703222839770484, 0.04987899455490879, 0.05290318436522394, 0.05611613904523438, 0.05952994117485911, 0.06315746414448975, 0.06701242496102448, 0.07110944064482425, 0.07546408846590401, 0.08009297028510165, 0.08501378128464908, 0.09024538339258453, 0.09580788372688402, 0.10172271840816181, 0.10801274211439928, 0.11470232377754809, 0.12181744885011028, 0.12938582860008555, 0.13743701692515492, 0.1460025352117542, 0.15511600580198556, 0.16481329467131553, 0.175132663962838, 0.18611493506985863, 0.19780366300780167, 0.2102453228692563, 0.22348950921264094, 0.23758914929565625, 0.25260073112986403, 0.2685845474025527, 0.28560495638695305, 0.30373066104224933, 0.323035007590959, 0.343596304953757, 0.36549816652095407, 0.3888298758462318, 0.413686777962429, 0.44017069814157217, 0.4683903900528346, 0.49846201541307683, 0.530509657375936, 0.5646658700678922, 0.6010722668539833, 0.6398801501029038, 0.6812511854221053, 0.7253581235489309, 0.7723855733153276, 0.8225308293519987, 0.8760047584645373, 0.9330327489005209, 0.9938557270338141, 1.0587312463226435, 1.1279346537524026, 1.2017603393548364, 1.2805230748042904, 1.3645594475306122, 1.4542293972602127, 1.5499178624033016, 1.652036544249538, 1.7610257975192298, 1.8773566564450095, 2.0015330062341086, 2.1340939104862633, 2.2756161059213453, 2.4267166766082835, 2.5880559207863247, 2.7603404243365066, 2.9443263560007535, 3.1408230005623134, 3.350696547402303, 3.574874153137223, 3.8143482984294184, 4.07018146055421, 4.343511124909887, 4.635555160381302, 4.947617585320624, 5.281094752901669, 5.6374819867478, 6.0183807000368805, 6.425506033766193, 6.860695052525082, 7.325915538989711, 7.823275431439008, 8.355032951906326, 8.923607476150915, 9.531591200471063, 10.181761664510104, 10.87709519365078, 11.620781329372953, 12.41623832109342, 13.267129758543485, 14.177382429693829, 15.15120549564948, 16.193111080834722, 17.30793638421331, 18.500867425283776, 19.777464547189226, 21.14368980854523, 22.605936405556914, 24.171060276728625, 25.846414054027967, 27.63988353680274, 29.559926878150254, 31.615616687860502, 33.816685271588, 36.17357324263814, 38.69748176076737, 41.400428671798146, 44.29530884275439, 47.3959590097251, 50.717227479920176, 54.275049055498805, 58.08652557488881, 62.17001249764038, 66.54521199150841, 71.23327301566255, 76.25689893183863, 81.64046321610472, 87.4101338879614, 93.59400732093263, 100.2222521499648, 107.3272640460611, 114.943832187989, 123.109318324954, 131.86384939313817, 141.25052472344325, 151.31563895798755, 162.10892187939126, 173.68379645015278, 186.09765645994807, 199.41216528709012, 213.69357739732234, 229.01308432913552, 245.44718705080166, 263.078096720908, 281.9941660423085, 302.2903535700147, 324.0687235174622, 347.4389838041078, 372.5190653013558, 399.43574546475656, 428.3253197896353, 459.33432479604795, 492.6203165390948, 528.3527089535206, 566.713676679246, 607.899127378929, 652.1197489518969, 699.6021374731768, 750.5900121445303, 805.3455240386359, 864.1506659513618, 927.3087912530037, 995.1462502511313, 1068.0141532491057, 1146.2902702087517, 1230.3810777082917, 1320.723964731211, 1417.7896097337634, 1522.0845424238696, 1634.1539047472975, 1754.5844267257419, 1884.0076340314463, 2023.1033055223788, 2172.603200408871, 2333.295076284672, 2506.02702094352, 2691.7121227250555, 2891.3335061032117, 3105.94976135792, 3336.7007994690634, 3584.814165854654, 3851.6118492586193, 4138.517624991526, 4447.064974860841, 4778.905629511408, 5135.818782554538, 5519.7210298176715, 5932.677091317443, 6376.911378177322, 6854.82047170074, 7368.986587204554, 7922.192101049542, 8517.435225605916, 9157.946923707297, 9847.20916151193, 10588.974606653555, 11387.287887176692, 12246.508536058585, 13171.335756189634, 14166.83515156799, 15238.467582235853, 16392.12031321633, 17634.140641476453, 18971.37219983083, 20411.194152808657, 21961.56351692126, 23631.060856614382, 25428.939627568543, 27365.179461059102, 29450.543706944372, 31696.64157865026, 34115.995271445245, 36722.11245550453, 39529.56457794675, 42554.07144340113, 45812.592580925986, 49323.425946525276, 53106.31455532635, 57182.56168598893, 61575.15535242448, 66308.90279471684, 71410.57580265394, 76909.06775185135, 82835.56330451471, 89223.72180491734, 96109.87548412301, 103533.2436799211, 111536.16437696131, 120164.34447924218, 129467.13034319751, 139497.80022528936, 150313.88043410663, 161977.48712436788, 174555.6958298004, 188120.94100475434, 202751.44803160493, 218531.7003537561, 235552.94461372713]}, {\"mode\": \"markers\", \"name\": \"Tempo Verificado\", \"type\": \"scatter\", \"x\": [1, 2, 3, 4, 5, 6, 7, 8, 9, 10, 11, 12, 13], \"y\": [3.9e-05, 5.7e-05, 0.000142, 0.000534, 0.00151, 0.003867, 0.047474, 0.099958, 0.888257, 9.059275, 101.434492, 1259.933144, 16827.891443]}],                        {\"showlegend\": false, \"template\": {\"data\": {\"bar\": [{\"error_x\": {\"color\": \"#2a3f5f\"}, \"error_y\": {\"color\": \"#2a3f5f\"}, \"marker\": {\"line\": {\"color\": \"#E5ECF6\", \"width\": 0.5}}, \"type\": \"bar\"}], \"barpolar\": [{\"marker\": {\"line\": {\"color\": \"#E5ECF6\", \"width\": 0.5}}, \"type\": \"barpolar\"}], \"carpet\": [{\"aaxis\": {\"endlinecolor\": \"#2a3f5f\", \"gridcolor\": \"white\", \"linecolor\": \"white\", \"minorgridcolor\": \"white\", \"startlinecolor\": \"#2a3f5f\"}, \"baxis\": {\"endlinecolor\": \"#2a3f5f\", \"gridcolor\": \"white\", \"linecolor\": \"white\", \"minorgridcolor\": \"white\", \"startlinecolor\": \"#2a3f5f\"}, \"type\": \"carpet\"}], \"choropleth\": [{\"colorbar\": {\"outlinewidth\": 0, \"ticks\": \"\"}, \"type\": \"choropleth\"}], \"contour\": [{\"colorbar\": {\"outlinewidth\": 0, \"ticks\": \"\"}, \"colorscale\": [[0.0, \"#0d0887\"], [0.1111111111111111, \"#46039f\"], [0.2222222222222222, \"#7201a8\"], [0.3333333333333333, \"#9c179e\"], [0.4444444444444444, \"#bd3786\"], [0.5555555555555556, \"#d8576b\"], [0.6666666666666666, \"#ed7953\"], [0.7777777777777778, \"#fb9f3a\"], [0.8888888888888888, \"#fdca26\"], [1.0, \"#f0f921\"]], \"type\": \"contour\"}], \"contourcarpet\": [{\"colorbar\": {\"outlinewidth\": 0, \"ticks\": \"\"}, \"type\": \"contourcarpet\"}], \"heatmap\": [{\"colorbar\": {\"outlinewidth\": 0, \"ticks\": \"\"}, \"colorscale\": [[0.0, \"#0d0887\"], [0.1111111111111111, \"#46039f\"], [0.2222222222222222, \"#7201a8\"], [0.3333333333333333, \"#9c179e\"], [0.4444444444444444, \"#bd3786\"], [0.5555555555555556, \"#d8576b\"], [0.6666666666666666, \"#ed7953\"], [0.7777777777777778, \"#fb9f3a\"], [0.8888888888888888, \"#fdca26\"], [1.0, \"#f0f921\"]], \"type\": \"heatmap\"}], \"heatmapgl\": [{\"colorbar\": {\"outlinewidth\": 0, \"ticks\": \"\"}, \"colorscale\": [[0.0, \"#0d0887\"], [0.1111111111111111, \"#46039f\"], [0.2222222222222222, \"#7201a8\"], [0.3333333333333333, \"#9c179e\"], [0.4444444444444444, \"#bd3786\"], [0.5555555555555556, \"#d8576b\"], [0.6666666666666666, \"#ed7953\"], [0.7777777777777778, \"#fb9f3a\"], [0.8888888888888888, \"#fdca26\"], [1.0, \"#f0f921\"]], \"type\": \"heatmapgl\"}], \"histogram\": [{\"marker\": {\"colorbar\": {\"outlinewidth\": 0, \"ticks\": \"\"}}, \"type\": \"histogram\"}], \"histogram2d\": [{\"colorbar\": {\"outlinewidth\": 0, \"ticks\": \"\"}, \"colorscale\": [[0.0, \"#0d0887\"], [0.1111111111111111, \"#46039f\"], [0.2222222222222222, \"#7201a8\"], [0.3333333333333333, \"#9c179e\"], [0.4444444444444444, \"#bd3786\"], [0.5555555555555556, \"#d8576b\"], [0.6666666666666666, \"#ed7953\"], [0.7777777777777778, \"#fb9f3a\"], [0.8888888888888888, \"#fdca26\"], [1.0, \"#f0f921\"]], \"type\": \"histogram2d\"}], \"histogram2dcontour\": [{\"colorbar\": {\"outlinewidth\": 0, \"ticks\": \"\"}, \"colorscale\": [[0.0, \"#0d0887\"], [0.1111111111111111, \"#46039f\"], [0.2222222222222222, \"#7201a8\"], [0.3333333333333333, \"#9c179e\"], [0.4444444444444444, \"#bd3786\"], [0.5555555555555556, \"#d8576b\"], [0.6666666666666666, \"#ed7953\"], [0.7777777777777778, \"#fb9f3a\"], [0.8888888888888888, \"#fdca26\"], [1.0, \"#f0f921\"]], \"type\": \"histogram2dcontour\"}], \"mesh3d\": [{\"colorbar\": {\"outlinewidth\": 0, \"ticks\": \"\"}, \"type\": \"mesh3d\"}], \"parcoords\": [{\"line\": {\"colorbar\": {\"outlinewidth\": 0, \"ticks\": \"\"}}, \"type\": \"parcoords\"}], \"pie\": [{\"automargin\": true, \"type\": \"pie\"}], \"scatter\": [{\"marker\": {\"colorbar\": {\"outlinewidth\": 0, \"ticks\": \"\"}}, \"type\": \"scatter\"}], \"scatter3d\": [{\"line\": {\"colorbar\": {\"outlinewidth\": 0, \"ticks\": \"\"}}, \"marker\": {\"colorbar\": {\"outlinewidth\": 0, \"ticks\": \"\"}}, \"type\": \"scatter3d\"}], \"scattercarpet\": [{\"marker\": {\"colorbar\": {\"outlinewidth\": 0, \"ticks\": \"\"}}, \"type\": \"scattercarpet\"}], \"scattergeo\": [{\"marker\": {\"colorbar\": {\"outlinewidth\": 0, \"ticks\": \"\"}}, \"type\": \"scattergeo\"}], \"scattergl\": [{\"marker\": {\"colorbar\": {\"outlinewidth\": 0, \"ticks\": \"\"}}, \"type\": \"scattergl\"}], \"scattermapbox\": [{\"marker\": {\"colorbar\": {\"outlinewidth\": 0, \"ticks\": \"\"}}, \"type\": \"scattermapbox\"}], \"scatterpolar\": [{\"marker\": {\"colorbar\": {\"outlinewidth\": 0, \"ticks\": \"\"}}, \"type\": \"scatterpolar\"}], \"scatterpolargl\": [{\"marker\": {\"colorbar\": {\"outlinewidth\": 0, \"ticks\": \"\"}}, \"type\": \"scatterpolargl\"}], \"scatterternary\": [{\"marker\": {\"colorbar\": {\"outlinewidth\": 0, \"ticks\": \"\"}}, \"type\": \"scatterternary\"}], \"surface\": [{\"colorbar\": {\"outlinewidth\": 0, \"ticks\": \"\"}, \"colorscale\": [[0.0, \"#0d0887\"], [0.1111111111111111, \"#46039f\"], [0.2222222222222222, \"#7201a8\"], [0.3333333333333333, \"#9c179e\"], [0.4444444444444444, \"#bd3786\"], [0.5555555555555556, \"#d8576b\"], [0.6666666666666666, \"#ed7953\"], [0.7777777777777778, \"#fb9f3a\"], [0.8888888888888888, \"#fdca26\"], [1.0, \"#f0f921\"]], \"type\": \"surface\"}], \"table\": [{\"cells\": {\"fill\": {\"color\": \"#EBF0F8\"}, \"line\": {\"color\": \"white\"}}, \"header\": {\"fill\": {\"color\": \"#C8D4E3\"}, \"line\": {\"color\": \"white\"}}, \"type\": \"table\"}]}, \"layout\": {\"annotationdefaults\": {\"arrowcolor\": \"#2a3f5f\", \"arrowhead\": 0, \"arrowwidth\": 1}, \"autotypenumbers\": \"strict\", \"coloraxis\": {\"colorbar\": {\"outlinewidth\": 0, \"ticks\": \"\"}}, \"colorscale\": {\"diverging\": [[0, \"#8e0152\"], [0.1, \"#c51b7d\"], [0.2, \"#de77ae\"], [0.3, \"#f1b6da\"], [0.4, \"#fde0ef\"], [0.5, \"#f7f7f7\"], [0.6, \"#e6f5d0\"], [0.7, \"#b8e186\"], [0.8, \"#7fbc41\"], [0.9, \"#4d9221\"], [1, \"#276419\"]], \"sequential\": [[0.0, \"#0d0887\"], [0.1111111111111111, \"#46039f\"], [0.2222222222222222, \"#7201a8\"], [0.3333333333333333, \"#9c179e\"], [0.4444444444444444, \"#bd3786\"], [0.5555555555555556, \"#d8576b\"], [0.6666666666666666, \"#ed7953\"], [0.7777777777777778, \"#fb9f3a\"], [0.8888888888888888, \"#fdca26\"], [1.0, \"#f0f921\"]], \"sequentialminus\": [[0.0, \"#0d0887\"], [0.1111111111111111, \"#46039f\"], [0.2222222222222222, \"#7201a8\"], [0.3333333333333333, \"#9c179e\"], [0.4444444444444444, \"#bd3786\"], [0.5555555555555556, \"#d8576b\"], [0.6666666666666666, \"#ed7953\"], [0.7777777777777778, \"#fb9f3a\"], [0.8888888888888888, \"#fdca26\"], [1.0, \"#f0f921\"]]}, \"colorway\": [\"#636efa\", \"#EF553B\", \"#00cc96\", \"#ab63fa\", \"#FFA15A\", \"#19d3f3\", \"#FF6692\", \"#B6E880\", \"#FF97FF\", \"#FECB52\"], \"font\": {\"color\": \"#2a3f5f\"}, \"geo\": {\"bgcolor\": \"white\", \"lakecolor\": \"white\", \"landcolor\": \"#E5ECF6\", \"showlakes\": true, \"showland\": true, \"subunitcolor\": \"white\"}, \"hoverlabel\": {\"align\": \"left\"}, \"hovermode\": \"closest\", \"mapbox\": {\"style\": \"light\"}, \"paper_bgcolor\": \"white\", \"plot_bgcolor\": \"#E5ECF6\", \"polar\": {\"angularaxis\": {\"gridcolor\": \"white\", \"linecolor\": \"white\", \"ticks\": \"\"}, \"bgcolor\": \"#E5ECF6\", \"radialaxis\": {\"gridcolor\": \"white\", \"linecolor\": \"white\", \"ticks\": \"\"}}, \"scene\": {\"xaxis\": {\"backgroundcolor\": \"#E5ECF6\", \"gridcolor\": \"white\", \"gridwidth\": 2, \"linecolor\": \"white\", \"showbackground\": true, \"ticks\": \"\", \"zerolinecolor\": \"white\"}, \"yaxis\": {\"backgroundcolor\": \"#E5ECF6\", \"gridcolor\": \"white\", \"gridwidth\": 2, \"linecolor\": \"white\", \"showbackground\": true, \"ticks\": \"\", \"zerolinecolor\": \"white\"}, \"zaxis\": {\"backgroundcolor\": \"#E5ECF6\", \"gridcolor\": \"white\", \"gridwidth\": 2, \"linecolor\": \"white\", \"showbackground\": true, \"ticks\": \"\", \"zerolinecolor\": \"white\"}}, \"shapedefaults\": {\"line\": {\"color\": \"#2a3f5f\"}}, \"ternary\": {\"aaxis\": {\"gridcolor\": \"white\", \"linecolor\": \"white\", \"ticks\": \"\"}, \"baxis\": {\"gridcolor\": \"white\", \"linecolor\": \"white\", \"ticks\": \"\"}, \"bgcolor\": \"#E5ECF6\", \"caxis\": {\"gridcolor\": \"white\", \"linecolor\": \"white\", \"ticks\": \"\"}}, \"title\": {\"x\": 0.05}, \"xaxis\": {\"automargin\": true, \"gridcolor\": \"white\", \"linecolor\": \"white\", \"ticks\": \"\", \"title\": {\"standoff\": 15}, \"zerolinecolor\": \"white\", \"zerolinewidth\": 2}, \"yaxis\": {\"automargin\": true, \"gridcolor\": \"white\", \"linecolor\": \"white\", \"ticks\": \"\", \"title\": {\"standoff\": 15}, \"zerolinecolor\": \"white\", \"zerolinewidth\": 2}}}, \"title\": {\"font\": {\"size\": 18}, \"text\": \"<b>Varia\\u00e7\\u00e3o do Tempo de Execu\\u00e7\\u00e3o X Tamanho da Entrada</b>\", \"x\": 0.5, \"xanchor\": \"center\", \"y\": 0.9, \"yanchor\": \"top\"}, \"xaxis\": {\"dtick\": 1, \"title\": {\"text\": \"Tamanho da Entrada\"}}, \"yaxis\": {\"range\": [0, 18000], \"title\": {\"text\": \"Tempo de Execu\\u00e7\\u00e3o em Segundos\"}}},                        {\"responsive\": true}                    ).then(function(){\n",
              "                            \n",
              "var gd = document.getElementById('2993070f-9dd2-4020-a51c-49b6568118f5');\n",
              "var x = new MutationObserver(function (mutations, observer) {{\n",
              "        var display = window.getComputedStyle(gd).display;\n",
              "        if (!display || display === 'none') {{\n",
              "            console.log([gd, 'removed!']);\n",
              "            Plotly.purge(gd);\n",
              "            observer.disconnect();\n",
              "        }}\n",
              "}});\n",
              "\n",
              "// Listen for the removal of the full notebook cells\n",
              "var notebookContainer = gd.closest('#notebook-container');\n",
              "if (notebookContainer) {{\n",
              "    x.observe(notebookContainer, {childList: true});\n",
              "}}\n",
              "\n",
              "// Listen for the clearing of the current output cell\n",
              "var outputEl = gd.closest('.output');\n",
              "if (outputEl) {{\n",
              "    x.observe(outputEl, {childList: true});\n",
              "}}\n",
              "\n",
              "                        })                };                            </script>        </div>\n",
              "</body>\n",
              "</html>"
            ]
          },
          "metadata": {
            "tags": []
          }
        }
      ]
    },
    {
      "cell_type": "markdown",
      "metadata": {
        "id": "IAVaqqxlOUt2"
      },
      "source": [
        "### Estimando o tempo necessário para execução"
      ]
    },
    {
      "cell_type": "code",
      "metadata": {
        "colab": {
          "base_uri": "https://localhost:8080/"
        },
        "id": "USjWVyQ2mAw6",
        "outputId": "5a26ba42-e81d-425a-fb73-347e73d22e33"
      },
      "source": [
        "#@markdown\n",
        "print(\"Tam. Entrada\\t\\t\\tTempo\")\n",
        "for i in range (5, 21):\n",
        "  d = datetime.timedelta(seconds=2.701967902460184e-06 * math.factorial(i))\n",
        "  print(\"{:6}\\t\\t{:6}y, {:2}m, {:2}d, {:02}:{:02}:{:02}.{:06}\".format(i, \n",
        "        d.days//365, d.days%365//30, d.days%365%30, d.seconds//(60*60), \n",
        "        d.seconds%(60*60)//60, d.seconds%(60*60)%60, d.microseconds))"
      ],
      "execution_count": null,
      "outputs": [
        {
          "output_type": "stream",
          "text": [
            "Tam. Entrada\t\t\tTempo\n",
            "     5\t\t     0y,  0m,  0d, 00:00:00.000324\n",
            "     6\t\t     0y,  0m,  0d, 00:00:00.001945\n",
            "     7\t\t     0y,  0m,  0d, 00:00:00.013618\n",
            "     8\t\t     0y,  0m,  0d, 00:00:00.108943\n",
            "     9\t\t     0y,  0m,  0d, 00:00:00.980490\n",
            "    10\t\t     0y,  0m,  0d, 00:00:09.804901\n",
            "    11\t\t     0y,  0m,  0d, 00:01:47.853912\n",
            "    12\t\t     0y,  0m,  0d, 00:21:34.246948\n",
            "    13\t\t     0y,  0m,  0d, 04:40:25.210330\n",
            "    14\t\t     0y,  0m,  2d, 17:25:52.944614\n",
            "    15\t\t     0y,  1m, 10d, 21:28:14.169206\n",
            "    16\t\t     1y,  9m, 19d, 07:31:46.707295\n",
            "    17\t\t    30y,  5m, 23d, 08:00:14.024007\n",
            "    18\t\t   548y,  6m, 20d, 00:04:12.432121\n",
            "    19\t\t 10422y,  5m,  0d, 01:19:56.210266\n",
            "    20\t\t208448y,  2m, 21d, 02:38:44.205078\n"
          ],
          "name": "stdout"
        }
      ]
    }
  ]
}