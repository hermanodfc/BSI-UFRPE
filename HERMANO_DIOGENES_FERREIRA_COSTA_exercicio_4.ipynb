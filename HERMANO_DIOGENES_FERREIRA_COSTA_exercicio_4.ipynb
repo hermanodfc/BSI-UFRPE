{
  "nbformat": 4,
  "nbformat_minor": 0,
  "metadata": {
    "colab": {
      "name": "HERMANO DIOGENES FERREIRA COSTA_exercicio_4.ipynb",
      "provenance": [],
      "authorship_tag": "ABX9TyOOs0lLxBDkEoOxHNWnXxB4",
      "include_colab_link": true
    },
    "kernelspec": {
      "name": "python3",
      "display_name": "Python 3"
    },
    "language_info": {
      "name": "python"
    }
  },
  "cells": [
    {
      "cell_type": "markdown",
      "metadata": {
        "id": "view-in-github",
        "colab_type": "text"
      },
      "source": [
        "<a href=\"https://colab.research.google.com/github/hermanodfc/BSI-UFRPE/blob/master/HERMANO_DIOGENES_FERREIRA_COSTA_exercicio_4.ipynb\" target=\"_parent\"><img src=\"https://colab.research.google.com/assets/colab-badge.svg\" alt=\"Open In Colab\"/></a>"
      ]
    },
    {
      "cell_type": "markdown",
      "metadata": {
        "id": "e2NujgTlPln6"
      },
      "source": [
        "#Universidade Federal Rural de Pernambuco - UFRPE\n",
        "##Aluno: Hermano Diogenes Ferreira Costa\n",
        "##Disciplina: Estatística Aplicada à Análise de Dados\n",
        "\n",
        "HERMANO DIOGENES FERREIRA COSTA_exercicio_4"
      ]
    },
    {
      "cell_type": "markdown",
      "metadata": {
        "id": "85VcRnIBLyYi"
      },
      "source": [
        "# Configurando o ambiente"
      ]
    },
    {
      "cell_type": "code",
      "metadata": {
        "colab": {
          "base_uri": "https://localhost:8080/"
        },
        "id": "b5aqjPvSLw6Z",
        "outputId": "b4e9a084-6408-4c46-b1d6-b37de0f1c2ab"
      },
      "source": [
        "!apt install -y graphviz\n",
        "!pip install graphviz\n",
        "import pandas as pd\n",
        "from IPython.display import Markdown\n",
        "from graphviz import Digraph\n",
        "from matplotlib_venn import venn3"
      ],
      "execution_count": null,
      "outputs": [
        {
          "output_type": "stream",
          "name": "stdout",
          "text": [
            "Reading package lists... Done\n",
            "Building dependency tree       \n",
            "Reading state information... Done\n",
            "graphviz is already the newest version (2.40.1-2).\n",
            "0 upgraded, 0 newly installed, 0 to remove and 37 not upgraded.\n",
            "Requirement already satisfied: graphviz in /usr/local/lib/python3.7/dist-packages (0.10.1)\n"
          ]
        }
      ]
    },
    {
      "cell_type": "markdown",
      "metadata": {
        "id": "0-MFub9NQG3R"
      },
      "source": [
        "# Questão 1\n",
        "A tabela abaixo mostra o numero dos filmes alugados numa locadora:\n",
        "\n",
        "\n",
        "  <!-- --> | Comédia | Romance | Policial\n",
        "  -|-|-|-\n",
        "  Homens | 143 | 96 | 255\n",
        "  Mulheres | 104 | 183 | 73\n",
        "\n",
        "Calcular a probabilidade de:"
      ]
    },
    {
      "cell_type": "markdown",
      "metadata": {
        "id": "E0CJ51Mjpa3z"
      },
      "source": [
        "##### a) Um filme ser alugado pela mulher\n"
      ]
    },
    {
      "cell_type": "code",
      "metadata": {
        "colab": {
          "base_uri": "https://localhost:8080/",
          "height": 393
        },
        "id": "RJHoyJAxPjyP",
        "outputId": "06b2f32f-359e-4968-beb8-1f4c6d26cd00"
      },
      "source": [
        "dados = {\"Comédia\": [143, 104], \"Romance\": [96, 183], \"Policial\": [255, 73]}\n",
        "questao1_df_abs = pd.DataFrame(data=dados, index=[\"Homens\", \"Mulheres\"])\n",
        "\n",
        "questao1_df_abs[\"Total\"] = questao1_df_abs.sum(axis=1)\n",
        "totais = questao1_df_abs.sum()\n",
        "totais.name = \"Total\"\n",
        "questao1_df_abs = questao1_df_abs.append(totais.to_frame().transpose())\n",
        "\n",
        "lin, col = questao1_df_abs.shape\n",
        "lin -= 1\n",
        "col -= 1\n",
        "soma_total = questao1_df_abs.iloc[lin, col]\n",
        "\n",
        "questao1_df_rel = questao1_df_abs / soma_total\n",
        "\n",
        "p_M = questao1_df_rel.loc['Mulheres', 'Total']\n",
        "\n",
        "\n",
        "display(Markdown(\"**Valores absolutos**\"), questao1_df_abs)\n",
        "print()\n",
        "display(Markdown(\"**Valores relativos**\"), questao1_df_rel)\n",
        "print()\n",
        "display(Markdown(f'**Probabilidade de um filme ser alugado por uma mulher [P(M)]:** {p_M:.6f}'))"
      ],
      "execution_count": null,
      "outputs": [
        {
          "output_type": "display_data",
          "data": {
            "text/markdown": "**Valores absolutos**",
            "text/plain": [
              "<IPython.core.display.Markdown object>"
            ]
          },
          "metadata": {}
        },
        {
          "output_type": "display_data",
          "data": {
            "text/html": [
              "<div>\n",
              "<style scoped>\n",
              "    .dataframe tbody tr th:only-of-type {\n",
              "        vertical-align: middle;\n",
              "    }\n",
              "\n",
              "    .dataframe tbody tr th {\n",
              "        vertical-align: top;\n",
              "    }\n",
              "\n",
              "    .dataframe thead th {\n",
              "        text-align: right;\n",
              "    }\n",
              "</style>\n",
              "<table border=\"1\" class=\"dataframe\">\n",
              "  <thead>\n",
              "    <tr style=\"text-align: right;\">\n",
              "      <th></th>\n",
              "      <th>Comédia</th>\n",
              "      <th>Romance</th>\n",
              "      <th>Policial</th>\n",
              "      <th>Total</th>\n",
              "    </tr>\n",
              "  </thead>\n",
              "  <tbody>\n",
              "    <tr>\n",
              "      <th>Homens</th>\n",
              "      <td>143</td>\n",
              "      <td>96</td>\n",
              "      <td>255</td>\n",
              "      <td>494</td>\n",
              "    </tr>\n",
              "    <tr>\n",
              "      <th>Mulheres</th>\n",
              "      <td>104</td>\n",
              "      <td>183</td>\n",
              "      <td>73</td>\n",
              "      <td>360</td>\n",
              "    </tr>\n",
              "    <tr>\n",
              "      <th>Total</th>\n",
              "      <td>247</td>\n",
              "      <td>279</td>\n",
              "      <td>328</td>\n",
              "      <td>854</td>\n",
              "    </tr>\n",
              "  </tbody>\n",
              "</table>\n",
              "</div>"
            ],
            "text/plain": [
              "          Comédia  Romance  Policial  Total\n",
              "Homens        143       96       255    494\n",
              "Mulheres      104      183        73    360\n",
              "Total         247      279       328    854"
            ]
          },
          "metadata": {}
        },
        {
          "output_type": "stream",
          "name": "stdout",
          "text": [
            "\n"
          ]
        },
        {
          "output_type": "display_data",
          "data": {
            "text/markdown": "**Valores relativos**",
            "text/plain": [
              "<IPython.core.display.Markdown object>"
            ]
          },
          "metadata": {}
        },
        {
          "output_type": "display_data",
          "data": {
            "text/html": [
              "<div>\n",
              "<style scoped>\n",
              "    .dataframe tbody tr th:only-of-type {\n",
              "        vertical-align: middle;\n",
              "    }\n",
              "\n",
              "    .dataframe tbody tr th {\n",
              "        vertical-align: top;\n",
              "    }\n",
              "\n",
              "    .dataframe thead th {\n",
              "        text-align: right;\n",
              "    }\n",
              "</style>\n",
              "<table border=\"1\" class=\"dataframe\">\n",
              "  <thead>\n",
              "    <tr style=\"text-align: right;\">\n",
              "      <th></th>\n",
              "      <th>Comédia</th>\n",
              "      <th>Romance</th>\n",
              "      <th>Policial</th>\n",
              "      <th>Total</th>\n",
              "    </tr>\n",
              "  </thead>\n",
              "  <tbody>\n",
              "    <tr>\n",
              "      <th>Homens</th>\n",
              "      <td>0.167447</td>\n",
              "      <td>0.112412</td>\n",
              "      <td>0.298595</td>\n",
              "      <td>0.578454</td>\n",
              "    </tr>\n",
              "    <tr>\n",
              "      <th>Mulheres</th>\n",
              "      <td>0.121780</td>\n",
              "      <td>0.214286</td>\n",
              "      <td>0.085480</td>\n",
              "      <td>0.421546</td>\n",
              "    </tr>\n",
              "    <tr>\n",
              "      <th>Total</th>\n",
              "      <td>0.289227</td>\n",
              "      <td>0.326698</td>\n",
              "      <td>0.384075</td>\n",
              "      <td>1.000000</td>\n",
              "    </tr>\n",
              "  </tbody>\n",
              "</table>\n",
              "</div>"
            ],
            "text/plain": [
              "           Comédia   Romance  Policial     Total\n",
              "Homens    0.167447  0.112412  0.298595  0.578454\n",
              "Mulheres  0.121780  0.214286  0.085480  0.421546\n",
              "Total     0.289227  0.326698  0.384075  1.000000"
            ]
          },
          "metadata": {}
        },
        {
          "output_type": "stream",
          "name": "stdout",
          "text": [
            "\n"
          ]
        },
        {
          "output_type": "display_data",
          "data": {
            "text/markdown": "**Probabilidade de um filme ser alugado por uma mulher [P(M)]:** 0.421546",
            "text/plain": [
              "<IPython.core.display.Markdown object>"
            ]
          },
          "metadata": {}
        }
      ]
    },
    {
      "cell_type": "markdown",
      "metadata": {
        "id": "PX16GyWZ0dJ3"
      },
      "source": [
        "##### b) Um filme ser o filme romance\n"
      ]
    },
    {
      "cell_type": "code",
      "metadata": {
        "colab": {
          "base_uri": "https://localhost:8080/",
          "height": 46
        },
        "id": "pibe8yHZ0X3K",
        "outputId": "9162d50a-0589-456b-b121-d5b539cdb593"
      },
      "source": [
        "p_R = questao1_df_rel.loc['Total', 'Romance']\n",
        "display(Markdown(f'**Probabilidade de um filme ser romance [P(R)]:** {p_R:.6f}'))"
      ],
      "execution_count": null,
      "outputs": [
        {
          "output_type": "display_data",
          "data": {
            "text/markdown": "**Probabilidade de um filme ser romance [P(R)]:** 0.326698",
            "text/plain": [
              "<IPython.core.display.Markdown object>"
            ]
          },
          "metadata": {}
        }
      ]
    },
    {
      "cell_type": "markdown",
      "metadata": {
        "id": "yzBoNcR61PSQ"
      },
      "source": [
        "##### c) Um filme ser alugado pelo homem dado que o filme é comedia\n"
      ]
    },
    {
      "cell_type": "code",
      "metadata": {
        "colab": {
          "base_uri": "https://localhost:8080/",
          "height": 268
        },
        "id": "ktke05na1QCN",
        "outputId": "22091e2a-1ef9-49a2-e365-274a0c4d8a2f"
      },
      "source": [
        "display(Markdown(r\"$P(H|C)= \\dfrac{P(H \\cap C)}{P(C)}$\"))\n",
        "print()\n",
        "\n",
        "p_HC = questao1_df_rel.loc['Homens', 'Comédia']\n",
        "p_C = questao1_df_rel.loc['Total', 'Comédia']\n",
        "p_H_dado_C = p_HC / p_C\n",
        "\n",
        "display(Markdown(f\"$P(H \\\\cap C)={p_HC:.6f}$\"))\n",
        "print()\n",
        "display(Markdown(f\"$P(C)={p_C:.6f}$\"))\n",
        "print()\n",
        "display(Markdown(f\"$P(H|C)= {p_H_dado_C:.6f}$\"))\n",
        "print()\n",
        "display(Markdown(f'**Probabilidade de um filme ser alugado pelo homem dado que o filme é comedia [P(H|C)]:** {p_H_dado_C:.6f}'))"
      ],
      "execution_count": null,
      "outputs": [
        {
          "output_type": "display_data",
          "data": {
            "text/markdown": "$P(H|C)= \\dfrac{P(H \\cap C)}{P(C)}$",
            "text/plain": [
              "<IPython.core.display.Markdown object>"
            ]
          },
          "metadata": {}
        },
        {
          "output_type": "stream",
          "name": "stdout",
          "text": [
            "\n"
          ]
        },
        {
          "output_type": "display_data",
          "data": {
            "text/markdown": "$P(H \\cap C)=0.167447$",
            "text/plain": [
              "<IPython.core.display.Markdown object>"
            ]
          },
          "metadata": {}
        },
        {
          "output_type": "stream",
          "name": "stdout",
          "text": [
            "\n"
          ]
        },
        {
          "output_type": "display_data",
          "data": {
            "text/markdown": "$P(C)=0.289227$",
            "text/plain": [
              "<IPython.core.display.Markdown object>"
            ]
          },
          "metadata": {}
        },
        {
          "output_type": "stream",
          "name": "stdout",
          "text": [
            "\n"
          ]
        },
        {
          "output_type": "display_data",
          "data": {
            "text/markdown": "$P(H|C)= 0.578947$",
            "text/plain": [
              "<IPython.core.display.Markdown object>"
            ]
          },
          "metadata": {}
        },
        {
          "output_type": "stream",
          "name": "stdout",
          "text": [
            "\n"
          ]
        },
        {
          "output_type": "display_data",
          "data": {
            "text/markdown": "**Probabilidade de um filme ser alugado pelo homem dado que o filme é comedia [P(H|C)]:** 0.578947",
            "text/plain": [
              "<IPython.core.display.Markdown object>"
            ]
          },
          "metadata": {}
        }
      ]
    },
    {
      "cell_type": "markdown",
      "metadata": {
        "id": "UCsidFcF651b"
      },
      "source": [
        "# Questão 2\n",
        "\n",
        "Numa certa cidade, a probabilidade de chuva em um dia qualquer de primavera é de 15%. Um meteorologista acerta suas previsões em 80% dos dias em que chove e em 85% dos dias em que não chove.\n"
      ]
    },
    {
      "cell_type": "markdown",
      "metadata": {
        "id": "89TW9ohy7V6m"
      },
      "source": [
        "##### a) Qual é a probabilidade de o meteorologista acertar sua previsão?\n"
      ]
    },
    {
      "cell_type": "code",
      "metadata": {
        "colab": {
          "base_uri": "https://localhost:8080/",
          "height": 249
        },
        "id": "LSKQqIA0-6tl",
        "outputId": "a8b2feef-bd0b-4ab7-96a5-1815a3ae2098"
      },
      "source": [
        "display(Markdown(r\"$P(A)= P(A \\cap C) + P(A \\cap C^c)$\"))\n",
        "print()\n",
        "display(Markdown(r\"$P(A)= P(C)P(A|C) + P(C^c)P(A|C^c)$\"))\n",
        "print()\n",
        "p_C = 0.15\n",
        "p_Ccomp = 1 - p_C\n",
        "p_A_dado_C = 0.80\n",
        "p_A_dado_Ccomp = 0.85\n",
        "p_A = p_C * p_A_dado_C + p_Ccomp * p_A_dado_Ccomp\n",
        "display(Markdown(f\"$P(A)= {p_C}*{p_A_dado_C} + {p_Ccomp}*{p_A_dado_Ccomp}$\"))\n",
        "print()\n",
        "display(Markdown(f\"$P(A)= {p_A:.4f}$\"))\n",
        "print()\n",
        "display(Markdown(f'**Probabilidade de o meteorologista acertar sua previsão:** {p_A:.4f}'))"
      ],
      "execution_count": null,
      "outputs": [
        {
          "output_type": "display_data",
          "data": {
            "text/markdown": "$P(A)= P(A \\cap C) + P(A \\cap C^c)$",
            "text/plain": [
              "<IPython.core.display.Markdown object>"
            ]
          },
          "metadata": {}
        },
        {
          "output_type": "stream",
          "name": "stdout",
          "text": [
            "\n"
          ]
        },
        {
          "output_type": "display_data",
          "data": {
            "text/markdown": "$P(A)= P(C)P(A|C) + P(C^c)P(A|C^c)$",
            "text/plain": [
              "<IPython.core.display.Markdown object>"
            ]
          },
          "metadata": {}
        },
        {
          "output_type": "stream",
          "name": "stdout",
          "text": [
            "\n"
          ]
        },
        {
          "output_type": "display_data",
          "data": {
            "text/markdown": "$P(A)= 0.15*0.8 + 0.85*0.85$",
            "text/plain": [
              "<IPython.core.display.Markdown object>"
            ]
          },
          "metadata": {}
        },
        {
          "output_type": "stream",
          "name": "stdout",
          "text": [
            "\n"
          ]
        },
        {
          "output_type": "display_data",
          "data": {
            "text/markdown": "$P(A)= 0.8425$",
            "text/plain": [
              "<IPython.core.display.Markdown object>"
            ]
          },
          "metadata": {}
        },
        {
          "output_type": "stream",
          "name": "stdout",
          "text": [
            "\n"
          ]
        },
        {
          "output_type": "display_data",
          "data": {
            "text/markdown": "**Probabilidade de o meteorologista acertar sua previsão:** 0.8425",
            "text/plain": [
              "<IPython.core.display.Markdown object>"
            ]
          },
          "metadata": {}
        }
      ]
    },
    {
      "cell_type": "markdown",
      "metadata": {
        "id": "FUIDQFgMFM_8"
      },
      "source": [
        "##### b)  Se não houve acerto na previsão feita, qual é a probabilidade de ter sido um dia da chuva?\n"
      ]
    },
    {
      "cell_type": "code",
      "metadata": {
        "colab": {
          "base_uri": "https://localhost:8080/",
          "height": 475
        },
        "id": "vqOfYmOzFXLo",
        "outputId": "62e17575-33d3-4714-fc6c-068190925461"
      },
      "source": [
        "display(Markdown(r\"$P(C|A^c) = \\dfrac{P(A^c \\cap C)}{P(A^c)}= \\dfrac{P(C)P(A^c|C)}{P(A^c)}$\"))\n",
        "print()\n",
        "p_C_dado_Acomp = p_C*(1 - p_A_dado_C)/(1 - p_A)\n",
        "display(Markdown(f\"$P(C|A^c) = \\\\dfrac{{{p_C}*{1 - p_A_dado_C:.4f}}}{{{1 - p_A:.4f}}} \\\\approx {p_C_dado_Acomp:.4f}$\"))\n",
        "print()\n",
        "display(Markdown(f'**Caso não haja acerto na previsão feita, a probabilidade de ter sido um dia da chuva é:** {p_C_dado_Acomp:.4f}'))\n",
        "print()\n",
        "g = Digraph()\n",
        "g.attr(rankdir='LR')\n",
        "g.edge('início', 'chuva', label=\"0.15\")\n",
        "g.edge('início', 'não chuva', label=\"0.85\")\n",
        "g.edge('chuva', 'acerto', label=\"0.80\")\n",
        "g.edge('chuva', 'não acerto', label=\"0.20\")\n",
        "g.edge('não chuva', 'acerto.', label=\"0.85\")\n",
        "g.edge('não chuva', 'não acerto.', label=\"0.15\")\n",
        "g.edge('acerto', '0.120')\n",
        "g.edge('não acerto', '0.030' )\n",
        "g.edge('acerto.', '0.7225')\n",
        "g.edge('não acerto.', '0.1275')\n",
        "g"
      ],
      "execution_count": null,
      "outputs": [
        {
          "output_type": "display_data",
          "data": {
            "text/markdown": "$P(C|A^c) = \\dfrac{P(A^c \\cap C)}{P(A^c)}= \\dfrac{P(C)P(A^c|C)}{P(A^c)}$",
            "text/plain": [
              "<IPython.core.display.Markdown object>"
            ]
          },
          "metadata": {}
        },
        {
          "output_type": "stream",
          "name": "stdout",
          "text": [
            "\n"
          ]
        },
        {
          "output_type": "display_data",
          "data": {
            "text/markdown": "$P(C|A^c) = \\dfrac{0.15*0.2000}{0.1575} \\approx 0.1905$",
            "text/plain": [
              "<IPython.core.display.Markdown object>"
            ]
          },
          "metadata": {}
        },
        {
          "output_type": "stream",
          "name": "stdout",
          "text": [
            "\n"
          ]
        },
        {
          "output_type": "display_data",
          "data": {
            "text/markdown": "**Caso não haja acerto na previsão feita, a probabilidade de ter sido um dia da chuva é:** 0.1905",
            "text/plain": [
              "<IPython.core.display.Markdown object>"
            ]
          },
          "metadata": {}
        },
        {
          "output_type": "stream",
          "name": "stdout",
          "text": [
            "\n"
          ]
        },
        {
          "output_type": "execute_result",
          "data": {
            "text/plain": [
              "<graphviz.dot.Digraph at 0x7fe1c7665750>"
            ],
            "image/svg+xml": "<?xml version=\"1.0\" encoding=\"UTF-8\" standalone=\"no\"?>\n<!DOCTYPE svg PUBLIC \"-//W3C//DTD SVG 1.1//EN\"\n \"http://www.w3.org/Graphics/SVG/1.1/DTD/svg11.dtd\">\n<!-- Generated by graphviz version 2.40.1 (20161225.0304)\n -->\n<!-- Title: %3 Pages: 1 -->\n<svg width=\"512pt\" height=\"206pt\"\n viewBox=\"0.00 0.00 511.57 206.00\" xmlns=\"http://www.w3.org/2000/svg\" xmlns:xlink=\"http://www.w3.org/1999/xlink\">\n<g id=\"graph0\" class=\"graph\" transform=\"scale(1 1) rotate(0) translate(4 202)\">\n<title>%3</title>\n<polygon fill=\"#ffffff\" stroke=\"transparent\" points=\"-4,4 -4,-202 507.5698,-202 507.5698,4 -4,4\"/>\n<!-- início -->\n<g id=\"node1\" class=\"node\">\n<title>início</title>\n<ellipse fill=\"none\" stroke=\"#000000\" cx=\"31.8472\" cy=\"-99\" rx=\"31.6951\" ry=\"18\"/>\n<text text-anchor=\"middle\" x=\"31.8472\" y=\"-95.3\" font-family=\"Times,serif\" font-size=\"14.00\" fill=\"#000000\">início</text>\n</g>\n<!-- chuva -->\n<g id=\"node2\" class=\"node\">\n<title>chuva</title>\n<ellipse fill=\"none\" stroke=\"#000000\" cx=\"176.09\" cy=\"-126\" rx=\"33.2948\" ry=\"18\"/>\n<text text-anchor=\"middle\" x=\"176.09\" y=\"-122.3\" font-family=\"Times,serif\" font-size=\"14.00\" fill=\"#000000\">chuva</text>\n</g>\n<!-- início&#45;&gt;chuva -->\n<g id=\"edge1\" class=\"edge\">\n<title>início&#45;&gt;chuva</title>\n<path fill=\"none\" stroke=\"#000000\" d=\"M62.0852,-104.6601C83.1699,-108.6068 111.5634,-113.9216 134.7393,-118.2598\"/>\n<polygon fill=\"#000000\" stroke=\"#000000\" points=\"134.1715,-121.7142 144.6448,-120.114 135.4595,-114.8337 134.1715,-121.7142\"/>\n<text text-anchor=\"middle\" x=\"95.1943\" y=\"-116.8\" font-family=\"Times,serif\" font-size=\"14.00\" fill=\"#000000\">0.15</text>\n</g>\n<!-- não chuva -->\n<g id=\"node3\" class=\"node\">\n<title>não chuva</title>\n<ellipse fill=\"none\" stroke=\"#000000\" cx=\"176.09\" cy=\"-72\" rx=\"49.2915\" ry=\"18\"/>\n<text text-anchor=\"middle\" x=\"176.09\" y=\"-68.3\" font-family=\"Times,serif\" font-size=\"14.00\" fill=\"#000000\">não chuva</text>\n</g>\n<!-- início&#45;&gt;não chuva -->\n<g id=\"edge2\" class=\"edge\">\n<title>início&#45;&gt;não chuva</title>\n<path fill=\"none\" stroke=\"#000000\" d=\"M61.8779,-92.8754C68.406,-91.572 75.278,-90.2213 81.6943,-89 94.4728,-86.5678 108.2423,-84.037 121.208,-81.6943\"/>\n<polygon fill=\"#000000\" stroke=\"#000000\" points=\"122.1772,-85.0762 131.3997,-79.8613 120.938,-78.1868 122.1772,-85.0762\"/>\n<text text-anchor=\"middle\" x=\"95.1943\" y=\"-92.8\" font-family=\"Times,serif\" font-size=\"14.00\" fill=\"#000000\">0.85</text>\n</g>\n<!-- acerto -->\n<g id=\"node4\" class=\"node\">\n<title>acerto</title>\n<ellipse fill=\"none\" stroke=\"#000000\" cx=\"339.831\" cy=\"-180\" rx=\"32.4942\" ry=\"18\"/>\n<text text-anchor=\"middle\" x=\"339.831\" y=\"-176.3\" font-family=\"Times,serif\" font-size=\"14.00\" fill=\"#000000\">acerto</text>\n</g>\n<!-- chuva&#45;&gt;acerto -->\n<g id=\"edge3\" class=\"edge\">\n<title>chuva&#45;&gt;acerto</title>\n<path fill=\"none\" stroke=\"#000000\" d=\"M204.6115,-135.4061C231.6127,-144.3108 272.3266,-157.7378 302.0233,-167.5314\"/>\n<polygon fill=\"#000000\" stroke=\"#000000\" points=\"301.0433,-170.8936 311.6364,-170.7017 303.2357,-164.2458 301.0433,-170.8936\"/>\n<text text-anchor=\"middle\" x=\"256.9856\" y=\"-159.8\" font-family=\"Times,serif\" font-size=\"14.00\" fill=\"#000000\">0.80</text>\n</g>\n<!-- não acerto -->\n<g id=\"node5\" class=\"node\">\n<title>não acerto</title>\n<ellipse fill=\"none\" stroke=\"#000000\" cx=\"339.831\" cy=\"-126\" rx=\"48.9926\" ry=\"18\"/>\n<text text-anchor=\"middle\" x=\"339.831\" y=\"-122.3\" font-family=\"Times,serif\" font-size=\"14.00\" fill=\"#000000\">não acerto</text>\n</g>\n<!-- chuva&#45;&gt;não acerto -->\n<g id=\"edge4\" class=\"edge\">\n<title>chuva&#45;&gt;não acerto</title>\n<path fill=\"none\" stroke=\"#000000\" d=\"M209.6205,-126C230.0876,-126 256.8342,-126 280.7586,-126\"/>\n<polygon fill=\"#000000\" stroke=\"#000000\" points=\"280.8125,-129.5001 290.8125,-126 280.8125,-122.5001 280.8125,-129.5001\"/>\n<text text-anchor=\"middle\" x=\"256.9856\" y=\"-129.8\" font-family=\"Times,serif\" font-size=\"14.00\" fill=\"#000000\">0.20</text>\n</g>\n<!-- acerto. -->\n<g id=\"node6\" class=\"node\">\n<title>acerto.</title>\n<ellipse fill=\"none\" stroke=\"#000000\" cx=\"339.831\" cy=\"-72\" rx=\"35.194\" ry=\"18\"/>\n<text text-anchor=\"middle\" x=\"339.831\" y=\"-68.3\" font-family=\"Times,serif\" font-size=\"14.00\" fill=\"#000000\">acerto.</text>\n</g>\n<!-- não chuva&#45;&gt;acerto. -->\n<g id=\"edge5\" class=\"edge\">\n<title>não chuva&#45;&gt;acerto.</title>\n<path fill=\"none\" stroke=\"#000000\" d=\"M225.662,-72C247.5834,-72 273.1841,-72 294.5812,-72\"/>\n<polygon fill=\"#000000\" stroke=\"#000000\" points=\"294.7131,-75.5001 304.7131,-72 294.7131,-68.5001 294.7131,-75.5001\"/>\n<text text-anchor=\"middle\" x=\"256.9856\" y=\"-75.8\" font-family=\"Times,serif\" font-size=\"14.00\" fill=\"#000000\">0.85</text>\n</g>\n<!-- não acerto. -->\n<g id=\"node7\" class=\"node\">\n<title>não acerto.</title>\n<ellipse fill=\"none\" stroke=\"#000000\" cx=\"339.831\" cy=\"-18\" rx=\"51.1914\" ry=\"18\"/>\n<text text-anchor=\"middle\" x=\"339.831\" y=\"-14.3\" font-family=\"Times,serif\" font-size=\"14.00\" fill=\"#000000\">não acerto.</text>\n</g>\n<!-- não chuva&#45;&gt;não acerto. -->\n<g id=\"edge6\" class=\"edge\">\n<title>não chuva&#45;&gt;não acerto.</title>\n<path fill=\"none\" stroke=\"#000000\" d=\"M212.8367,-59.8813C236.3936,-52.1125 267.1989,-41.9533 292.5697,-33.5863\"/>\n<polygon fill=\"#000000\" stroke=\"#000000\" points=\"293.9555,-36.8147 302.3562,-30.3588 291.7631,-30.1669 293.9555,-36.8147\"/>\n<text text-anchor=\"middle\" x=\"256.9856\" y=\"-51.8\" font-family=\"Times,serif\" font-size=\"14.00\" fill=\"#000000\">0.15</text>\n</g>\n<!-- 0.120 -->\n<g id=\"node8\" class=\"node\">\n<title>0.120</title>\n<ellipse fill=\"none\" stroke=\"#000000\" cx=\"465.8731\" cy=\"-180\" rx=\"32.4942\" ry=\"18\"/>\n<text text-anchor=\"middle\" x=\"465.8731\" y=\"-176.3\" font-family=\"Times,serif\" font-size=\"14.00\" fill=\"#000000\">0.120</text>\n</g>\n<!-- acerto&#45;&gt;0.120 -->\n<g id=\"edge7\" class=\"edge\">\n<title>acerto&#45;&gt;0.120</title>\n<path fill=\"none\" stroke=\"#000000\" d=\"M372.6181,-180C387.9356,-180 406.3761,-180 422.801,-180\"/>\n<polygon fill=\"#000000\" stroke=\"#000000\" points=\"423.2503,-183.5001 433.2502,-180 423.2502,-176.5001 423.2503,-183.5001\"/>\n</g>\n<!-- 0.030 -->\n<g id=\"node9\" class=\"node\">\n<title>0.030</title>\n<ellipse fill=\"none\" stroke=\"#000000\" cx=\"465.8731\" cy=\"-126\" rx=\"32.4942\" ry=\"18\"/>\n<text text-anchor=\"middle\" x=\"465.8731\" y=\"-122.3\" font-family=\"Times,serif\" font-size=\"14.00\" fill=\"#000000\">0.030</text>\n</g>\n<!-- não acerto&#45;&gt;0.030 -->\n<g id=\"edge8\" class=\"edge\">\n<title>não acerto&#45;&gt;0.030</title>\n<path fill=\"none\" stroke=\"#000000\" d=\"M388.9231,-126C400.1328,-126 411.9613,-126 422.8921,-126\"/>\n<polygon fill=\"#000000\" stroke=\"#000000\" points=\"423.0476,-129.5001 433.0476,-126 423.0475,-122.5001 423.0476,-129.5001\"/>\n</g>\n<!-- 0.7225 -->\n<g id=\"node10\" class=\"node\">\n<title>0.7225</title>\n<ellipse fill=\"none\" stroke=\"#000000\" cx=\"465.8731\" cy=\"-72\" rx=\"37.8943\" ry=\"18\"/>\n<text text-anchor=\"middle\" x=\"465.8731\" y=\"-68.3\" font-family=\"Times,serif\" font-size=\"14.00\" fill=\"#000000\">0.7225</text>\n</g>\n<!-- acerto.&#45;&gt;0.7225 -->\n<g id=\"edge9\" class=\"edge\">\n<title>acerto.&#45;&gt;0.7225</title>\n<path fill=\"none\" stroke=\"#000000\" d=\"M374.9408,-72C388.1877,-72 403.4964,-72 417.731,-72\"/>\n<polygon fill=\"#000000\" stroke=\"#000000\" points=\"417.8614,-75.5001 427.8614,-72 417.8613,-68.5001 417.8614,-75.5001\"/>\n</g>\n<!-- 0.1275 -->\n<g id=\"node11\" class=\"node\">\n<title>0.1275</title>\n<ellipse fill=\"none\" stroke=\"#000000\" cx=\"465.8731\" cy=\"-18\" rx=\"37.8943\" ry=\"18\"/>\n<text text-anchor=\"middle\" x=\"465.8731\" y=\"-14.3\" font-family=\"Times,serif\" font-size=\"14.00\" fill=\"#000000\">0.1275</text>\n</g>\n<!-- não acerto.&#45;&gt;0.1275 -->\n<g id=\"edge10\" class=\"edge\">\n<title>não acerto.&#45;&gt;0.1275</title>\n<path fill=\"none\" stroke=\"#000000\" d=\"M391.4608,-18C400.1608,-18 409.1603,-18 417.7662,-18\"/>\n<polygon fill=\"#000000\" stroke=\"#000000\" points=\"418.0217,-21.5001 428.0216,-18 418.0216,-14.5001 418.0217,-21.5001\"/>\n</g>\n</g>\n</svg>\n"
          },
          "metadata": {},
          "execution_count": 6
        }
      ]
    },
    {
      "cell_type": "markdown",
      "metadata": {
        "id": "XvsMMaxPPNSp"
      },
      "source": [
        "# Questão 3\n",
        "\n",
        "Em uma escola, 60% de estudantes não usam anel nem colar, 20% usam anel e 30% colar. Se um aluno é escolhido aletoriamente, qual a probabilidade de que estaja usando...\n"
      ]
    },
    {
      "cell_type": "code",
      "metadata": {
        "colab": {
          "base_uri": "https://localhost:8080/",
          "height": 248
        },
        "id": "Qe5GKhU-ZpLO",
        "outputId": "617418f7-c785-42f6-82d0-50b8b048be4a"
      },
      "source": [
        "v = venn3(subsets=(60,0,20,0,10,0,10), set_labels = ('U', 'Colar', 'Anel'))\n"
      ],
      "execution_count": null,
      "outputs": [
        {
          "output_type": "display_data",
          "data": {
            "image/png": "[encoded data removed]",
            "text/plain": [
              "<Figure size 432x288 with 1 Axes>"
            ]
          },
          "metadata": {}
        }
      ]
    },
    {
      "cell_type": "markdown",
      "metadata": {
        "id": "XSm7n-mxau_G"
      },
      "source": [
        "##### a)  Pelo menos uma das joias?"
      ]
    },
    {
      "cell_type": "code",
      "metadata": {
        "colab": {
          "base_uri": "https://localhost:8080/",
          "height": 50
        },
        "id": "lWJHBDEVa8B3",
        "outputId": "db837ebe-a5ef-41a6-b8c6-cda92cffaf29"
      },
      "source": [
        "display(Markdown(r\"$P(Colar \\cup Anel) = P(Colar) + P(Anel) - P(Colar \\cap Anel)= 20 + 30 - 10 = 40\\%$\"))"
      ],
      "execution_count": null,
      "outputs": [
        {
          "output_type": "display_data",
          "data": {
            "text/markdown": "$P(Colar \\cup Anel) = P(Colar) + P(Anel) - P(Colar \\cap Anel)= 20 + 30 - 10 = 40\\%$",
            "text/plain": [
              "<IPython.core.display.Markdown object>"
            ]
          },
          "metadata": {}
        }
      ]
    },
    {
      "cell_type": "markdown",
      "metadata": {
        "id": "gdHRYZ2Ua9JN"
      },
      "source": [
        "##### b) Ambas as joias"
      ]
    },
    {
      "cell_type": "code",
      "metadata": {
        "colab": {
          "base_uri": "https://localhost:8080/",
          "height": 50
        },
        "id": "R6PCRykJbMkz",
        "outputId": "cfd0b973-4af2-4fa6-f89e-21571284a1db"
      },
      "source": [
        "display(Markdown(r\"$P(Colar \\cap Anel) = 10\\%$\"))"
      ],
      "execution_count": null,
      "outputs": [
        {
          "output_type": "display_data",
          "data": {
            "text/markdown": "$P(Colar \\cap Anel) = 10\\%$",
            "text/plain": [
              "<IPython.core.display.Markdown object>"
            ]
          },
          "metadata": {}
        }
      ]
    },
    {
      "cell_type": "markdown",
      "metadata": {
        "id": "AjJn0H6_a-o-"
      },
      "source": [
        "##### c) Um anel mas não um colar?\n"
      ]
    },
    {
      "cell_type": "code",
      "metadata": {
        "colab": {
          "base_uri": "https://localhost:8080/",
          "height": 50
        },
        "id": "EHrQ88XSbOXU",
        "outputId": "152e5f4c-1908-457d-c55d-3b70b7d07e86"
      },
      "source": [
        "display(Markdown(r\"$P(Anel - Colar) = P(Anel) - P(Colar \\cap Anel)= 20 - 10 = 10\\%$\"))"
      ],
      "execution_count": null,
      "outputs": [
        {
          "output_type": "display_data",
          "data": {
            "text/markdown": "$P(Anel - Colar) = P(Anel) - P(Colar \\cap Anel)= 20 - 10 = 10\\%$",
            "text/plain": [
              "<IPython.core.display.Markdown object>"
            ]
          },
          "metadata": {}
        }
      ]
    }
  ]
}